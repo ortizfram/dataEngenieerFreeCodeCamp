{
 "cells": [
  {
   "cell_type": "markdown",
   "id": "bb247446",
   "metadata": {},
   "source": [
    "# @Data Structures"
   ]
  },
  {
   "cell_type": "code",
   "execution_count": 7,
   "id": "28053afb",
   "metadata": {},
   "outputs": [],
   "source": [
    "L = [1,3,4.9,\"name\",3]\n",
    "T = (1,3,4.9,\"name\",3)\n",
    "S = {1,3,4.9,\"name\",3} #cant contain duplicates\n",
    "D = {23:\"twothree\",'B':43,'C':'CCD'}"
   ]
  },
  {
   "cell_type": "code",
   "execution_count": 2,
   "id": "5f80e3a3",
   "metadata": {},
   "outputs": [
    {
     "name": "stdout",
     "output_type": "stream",
     "text": [
      "Type of L <class 'list'>\n",
      "Type of T <class 'tuple'>\n",
      "Type of S <class 'set'>\n",
      "Type of D <class 'dict'>\n"
     ]
    }
   ],
   "source": [
    "print(\"Type of L\", type(L))\n",
    "print(\"Type of T\", type(T))\n",
    "print(\"Type of S\", type(S))\n",
    "print(\"Type of D\", type(D))"
   ]
  },
  {
   "cell_type": "markdown",
   "id": "ca43d65d",
   "metadata": {},
   "source": [
    "## accessing\n",
    "#### accessing element in list"
   ]
  },
  {
   "cell_type": "code",
   "execution_count": 9,
   "id": "2c7aea5d",
   "metadata": {},
   "outputs": [
    {
     "name": "stdout",
     "output_type": "stream",
     "text": [
      "3\n",
      "3\n",
      "True\n",
      "twothree\n"
     ]
    }
   ],
   "source": [
    "print(L[1])\n",
    "print(T[1])\n",
    "print(3 in S) #bool\n",
    "print(D[23])"
   ]
  },
  {
   "cell_type": "code",
   "execution_count": null,
   "id": "71a51bf0",
   "metadata": {},
   "outputs": [],
   "source": []
  }
 ],
 "metadata": {
  "kernelspec": {
   "display_name": "Python 3 (ipykernel)",
   "language": "python",
   "name": "python3"
  },
  "language_info": {
   "codemirror_mode": {
    "name": "ipython",
    "version": 3
   },
   "file_extension": ".py",
   "mimetype": "text/x-python",
   "name": "python",
   "nbconvert_exporter": "python",
   "pygments_lexer": "ipython3",
   "version": "3.9.12"
  }
 },
 "nbformat": 4,
 "nbformat_minor": 5
}
