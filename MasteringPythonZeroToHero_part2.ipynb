{
 "cells": [
  {
   "cell_type": "markdown",
   "id": "bb247446",
   "metadata": {},
   "source": [
    "# @Data Structures"
   ]
  },
  {
   "cell_type": "code",
   "execution_count": 30,
   "id": "28053afb",
   "metadata": {},
   "outputs": [],
   "source": [
    "L = [1,3,4.9,\"name\",3]\n",
    "T = (1,3,4.9,\"name\",3)\n",
    "S = {1,3,4.9,\"name\",3} #cant contain duplicates\n",
    "D = {23:\"twothree\",'B':43,'C':'CCD'}"
   ]
  },
  {
   "cell_type": "code",
   "execution_count": 7,
   "id": "5f80e3a3",
   "metadata": {},
   "outputs": [
    {
     "name": "stdout",
     "output_type": "stream",
     "text": [
      "Type of L <class 'list'>\n",
      "Type of T <class 'tuple'>\n",
      "Type of S <class 'set'>\n",
      "Type of D <class 'dict'>\n"
     ]
    }
   ],
   "source": [
    "print(\"Type of L\", type(L))\n",
    "print(\"Type of T\", type(T))\n",
    "print(\"Type of S\", type(S))\n",
    "print(\"Type of D\", type(D))"
   ]
  },
  {
   "cell_type": "markdown",
   "id": "ca43d65d",
   "metadata": {},
   "source": [
    "## --- accessing  ---\n",
    "#### accessing element in list"
   ]
  },
  {
   "cell_type": "code",
   "execution_count": 8,
   "id": "2c7aea5d",
   "metadata": {},
   "outputs": [
    {
     "name": "stdout",
     "output_type": "stream",
     "text": [
      "3\n",
      "3\n",
      "True\n",
      "twothree\n"
     ]
    }
   ],
   "source": [
    "print(L[1])\n",
    "print(T[1])\n",
    "print(3 in S) #bool\n",
    "print(D[23])"
   ]
  },
  {
   "cell_type": "code",
   "execution_count": 5,
   "id": "5c1dba50",
   "metadata": {},
   "outputs": [
    {
     "data": {
      "text/plain": [
       "{1, 3, 4.9, 'name'}"
      ]
     },
     "execution_count": 5,
     "metadata": {},
     "output_type": "execute_result"
    }
   ],
   "source": [
    "S"
   ]
  },
  {
   "cell_type": "code",
   "execution_count": 9,
   "id": "413361a3",
   "metadata": {},
   "outputs": [
    {
     "data": {
      "text/plain": [
       "[1, 3, 4.9, 'name', 3]"
      ]
     },
     "execution_count": 9,
     "metadata": {},
     "output_type": "execute_result"
    }
   ],
   "source": [
    "L"
   ]
  },
  {
   "cell_type": "code",
   "execution_count": 10,
   "id": "61247dfb",
   "metadata": {},
   "outputs": [
    {
     "data": {
      "text/plain": [
       "[3, 4.9]"
      ]
     },
     "execution_count": 10,
     "metadata": {},
     "output_type": "execute_result"
    }
   ],
   "source": [
    "L[1:3]"
   ]
  },
  {
   "cell_type": "code",
   "execution_count": 11,
   "id": "4b7bfbb1",
   "metadata": {},
   "outputs": [
    {
     "data": {
      "text/plain": [
       "[3, 'name', 4.9, 3, 1]"
      ]
     },
     "execution_count": 11,
     "metadata": {},
     "output_type": "execute_result"
    }
   ],
   "source": [
    "L[::-1]"
   ]
  },
  {
   "cell_type": "code",
   "execution_count": 12,
   "id": "aea5f567",
   "metadata": {},
   "outputs": [
    {
     "data": {
      "text/plain": [
       "(1, 3, 4.9)"
      ]
     },
     "execution_count": 12,
     "metadata": {},
     "output_type": "execute_result"
    }
   ],
   "source": [
    "T[:3]"
   ]
  },
  {
   "cell_type": "markdown",
   "id": "337d99d4",
   "metadata": {},
   "source": [
    "## ---- inserting ---\n",
    "### - list\n",
    "(mutable)\n",
    "##### \"\"\" L + [ ]   OR        L.append( ) \"\"\""
   ]
  },
  {
   "cell_type": "code",
   "execution_count": 21,
   "id": "b7c8d89f",
   "metadata": {},
   "outputs": [
    {
     "data": {
      "text/plain": [
       "[1, 3, 4.9, 'name', 3]"
      ]
     },
     "execution_count": 21,
     "metadata": {},
     "output_type": "execute_result"
    }
   ],
   "source": [
    "L"
   ]
  },
  {
   "cell_type": "code",
   "execution_count": 28,
   "id": "f900ac38",
   "metadata": {},
   "outputs": [],
   "source": [
    "L = L + ['how', 'are', 6, 'you']\n",
    "\n",
    "\"\"\"OR\"\"\"\n",
    "\n",
    "L.append(6.8)"
   ]
  },
  {
   "cell_type": "code",
   "execution_count": 27,
   "id": "cc5bede6",
   "metadata": {},
   "outputs": [
    {
     "name": "stdout",
     "output_type": "stream",
     "text": [
      "[1, 3, 4.9, 'name', 3, 'how', 'are', 6, 'you', 'how', 'are', 6, 'you', 6.8, 'how', 'are', 6, 'you', 6.8]\n"
     ]
    }
   ],
   "source": [
    "print(L)"
   ]
  },
  {
   "cell_type": "markdown",
   "id": "2d9c50c0",
   "metadata": {},
   "source": [
    "### - tuple    \n",
    "(inmutable can't insert )\n",
    "##### \"\"\" T1  +  T2  \"\"\""
   ]
  },
  {
   "cell_type": "code",
   "execution_count": 32,
   "id": "3e3cf989",
   "metadata": {},
   "outputs": [
    {
     "name": "stdout",
     "output_type": "stream",
     "text": [
      "(1, 3, 4.9, 'name', 3, 'a', 'b', 45)\n"
     ]
    }
   ],
   "source": [
    "T = (1,3,4.9,\"name\",3)\n",
    "T2 = ('a', 'b', 45)\n",
    "T3 = T + T2\n",
    "print(T3)"
   ]
  },
  {
   "cell_type": "markdown",
   "id": "d4ba7aeb",
   "metadata": {},
   "source": [
    "### - set\n",
    "##### \"\"\"  S.add( )    OR    S.update({ 23,\"game\"} )    \"\"\"\n",
    "(cant contain duplicates)"
   ]
  },
  {
   "cell_type": "code",
   "execution_count": 34,
   "id": "887318ef",
   "metadata": {},
   "outputs": [
    {
     "data": {
      "text/plain": [
       "{1, 3, 4.9, 56, 'name'}"
      ]
     },
     "execution_count": 34,
     "metadata": {},
     "output_type": "execute_result"
    }
   ],
   "source": [
    "S = {1,3,4.9,\"name\",3} \n",
    "S.add(56)\n",
    "S"
   ]
  },
  {
   "cell_type": "code",
   "execution_count": 37,
   "id": "47c6e3a2",
   "metadata": {},
   "outputs": [
    {
     "data": {
      "text/plain": [
       "{1, 23, 3, 4.9, 56, 'fra', 'game', 'name'}"
      ]
     },
     "execution_count": 37,
     "metadata": {},
     "output_type": "execute_result"
    }
   ],
   "source": [
    "S.update({23, \"fra\", \"game\"})\n",
    "S"
   ]
  },
  {
   "cell_type": "markdown",
   "id": "0087ac94",
   "metadata": {},
   "source": [
    "### - dictionary\n",
    "(mutable), can't concatenate\n",
    "##### \"\"\"  D['newKey'] = \"newValue\"\n",
    "##### \"\"\" D.update(D2)  \"\"\""
   ]
  },
  {
   "cell_type": "code",
   "execution_count": 46,
   "id": "5dbd98ef",
   "metadata": {},
   "outputs": [],
   "source": [
    "D = {23:\"twothree\",'B':43,'C':'CCD'}"
   ]
  },
  {
   "cell_type": "code",
   "execution_count": 47,
   "id": "b8ea00da",
   "metadata": {},
   "outputs": [
    {
     "name": "stdout",
     "output_type": "stream",
     "text": [
      "{23: 'twothree', 'B': 43, 'C': 'CCD', 'newKey': 'newValue'}\n"
     ]
    }
   ],
   "source": [
    "D['newKey'] = 'newValue'\n",
    "print(D)"
   ]
  },
  {
   "cell_type": "code",
   "execution_count": 56,
   "id": "9a3b58f7",
   "metadata": {},
   "outputs": [
    {
     "data": {
      "text/plain": [
       "{23: 'twothree', 'B': 43, 'newKey': 'newValue', 'y': 'yy', 'z': 10}"
      ]
     },
     "execution_count": 56,
     "metadata": {},
     "output_type": "execute_result"
    }
   ],
   "source": [
    "D2 = {\"y\":\"yy\",\"z\":10}\n",
    "D.update(D2)\n",
    "D"
   ]
  },
  {
   "cell_type": "markdown",
   "id": "42a26ebe",
   "metadata": {},
   "source": [
    "## --- del / remove /clear ---"
   ]
  },
  {
   "cell_type": "markdown",
   "id": "dbe038bd",
   "metadata": {},
   "source": [
    "### - list  delete"
   ]
  },
  {
   "cell_type": "code",
   "execution_count": 53,
   "id": "a2ee4ec8",
   "metadata": {},
   "outputs": [
    {
     "name": "stdout",
     "output_type": "stream",
     "text": [
      "[1, 3, 4.9]\n",
      "[1, 3]\n"
     ]
    }
   ],
   "source": [
    "print(L)\n",
    "del L[2]\n",
    "print(L)"
   ]
  },
  {
   "cell_type": "markdown",
   "id": "a436f6eb",
   "metadata": {},
   "source": [
    "### - set remove()"
   ]
  },
  {
   "cell_type": "code",
   "execution_count": 54,
   "id": "40452e87",
   "metadata": {
    "scrolled": true
   },
   "outputs": [
    {
     "name": "stdout",
     "output_type": "stream",
     "text": [
      "{1, 3, 4.9, 'game', 'name', 'fra', 23, 56}\n",
      "{1, 3, 4.9, 'name', 'fra', 23, 56}\n"
     ]
    }
   ],
   "source": [
    "print(S)\n",
    "S.remove('game')\n",
    "print(S)\n"
   ]
  },
  {
   "cell_type": "markdown",
   "id": "25372356",
   "metadata": {},
   "source": [
    "### - dictionary delete"
   ]
  },
  {
   "cell_type": "code",
   "execution_count": 55,
   "id": "8c64dca9",
   "metadata": {},
   "outputs": [
    {
     "name": "stdout",
     "output_type": "stream",
     "text": [
      "{23: 'twothree', 'B': 43, 'C': 'CCD', 'newKey': 'newValue'}\n",
      "{23: 'twothree', 'B': 43, 'newKey': 'newValue'}\n"
     ]
    }
   ],
   "source": [
    "print(D)\n",
    "del D['C']\n",
    "print(D)"
   ]
  },
  {
   "cell_type": "markdown",
   "id": "4d9c7274",
   "metadata": {},
   "source": [
    "## --- copy ---"
   ]
  },
  {
   "cell_type": "markdown",
   "id": "8c47fe20",
   "metadata": {},
   "source": [
    "### - list"
   ]
  },
  {
   "cell_type": "code",
   "execution_count": 57,
   "id": "5e38ddad",
   "metadata": {},
   "outputs": [
    {
     "data": {
      "text/plain": [
       "[1, 3]"
      ]
     },
     "execution_count": 57,
     "metadata": {},
     "output_type": "execute_result"
    }
   ],
   "source": [
    "L2 = L\n",
    "L2"
   ]
  },
  {
   "cell_type": "code",
   "execution_count": 61,
   "id": "21d91024",
   "metadata": {},
   "outputs": [
    {
     "data": {
      "text/plain": [
       "[1, 'three']"
      ]
     },
     "execution_count": 61,
     "metadata": {},
     "output_type": "execute_result"
    }
   ],
   "source": [
    "L2[1] = \"three\"\n",
    "L2"
   ]
  },
  {
   "cell_type": "code",
   "execution_count": 63,
   "id": "99005495",
   "metadata": {},
   "outputs": [
    {
     "data": {
      "text/plain": [
       "[1, 4.9]"
      ]
     },
     "execution_count": 63,
     "metadata": {},
     "output_type": "execute_result"
    }
   ],
   "source": [
    "L2 = L.copy()\n",
    "L2[1] = 4.9\n",
    "L2"
   ]
  },
  {
   "cell_type": "code",
   "execution_count": 64,
   "id": "ee26856c",
   "metadata": {},
   "outputs": [
    {
     "data": {
      "text/plain": [
       "[1, 'three']"
      ]
     },
     "execution_count": 64,
     "metadata": {},
     "output_type": "execute_result"
    }
   ],
   "source": [
    "L"
   ]
  },
  {
   "cell_type": "code",
   "execution_count": 68,
   "id": "321c74e6",
   "metadata": {},
   "outputs": [
    {
     "data": {
      "text/plain": [
       "[1, 3, 4.9, 'name']"
      ]
     },
     "execution_count": 68,
     "metadata": {},
     "output_type": "execute_result"
    }
   ],
   "source": [
    "\"\"\"this is a new list when you slice\"\"\"\n",
    "L = [1,3,4.9,\"name\",3]\n",
    "L3 = L[0:4]\n",
    "L3"
   ]
  },
  {
   "cell_type": "code",
   "execution_count": 69,
   "id": "a4e84fa5",
   "metadata": {},
   "outputs": [
    {
     "data": {
      "text/plain": [
       "[1, 3, 4.9, 'name', 3]"
      ]
     },
     "execution_count": 69,
     "metadata": {},
     "output_type": "execute_result"
    }
   ],
   "source": [
    "L"
   ]
  },
  {
   "cell_type": "markdown",
   "id": "02598cc0",
   "metadata": {},
   "source": [
    "### - tuple \n",
    "you can't make a copy, it's inmutable"
   ]
  },
  {
   "cell_type": "markdown",
   "id": "8cff38b5",
   "metadata": {},
   "source": [
    "# --- ### exercises ### ---"
   ]
  },
  {
   "cell_type": "code",
   "execution_count": 1,
   "id": "06bb268f",
   "metadata": {},
   "outputs": [],
   "source": [
    "L = [1,3,4.9,\"name\",3]\n",
    "T = (1,3,4.9,\"name\",3)\n",
    "S = {1,3,4.9,\"name\",3} #cant contain duplicates\n",
    "D = {23:\"twothree\",'B':43,'C':'CCD'}"
   ]
  },
  {
   "cell_type": "code",
   "execution_count": 2,
   "id": "40b0fac0",
   "metadata": {},
   "outputs": [],
   "source": []
  },
  {
   "cell_type": "code",
   "execution_count": 20,
   "id": "485148de",
   "metadata": {},
   "outputs": [
    {
     "data": {
      "text/plain": [
       "'name'"
      ]
     },
     "execution_count": 20,
     "metadata": {},
     "output_type": "execute_result"
    }
   ],
   "source": [
    "\"\"\" \\indexing elements\\ abstract list\"\"\"\n",
    "D2 =  {'a':L,'b':T,'c':D}\n",
    "D2['a'][3] "
   ]
  },
  {
   "cell_type": "code",
   "execution_count": 6,
   "id": "9f399f25",
   "metadata": {},
   "outputs": [],
   "source": [
    "K = D2['c']"
   ]
  },
  {
   "cell_type": "code",
   "execution_count": 7,
   "id": "15dbd196",
   "metadata": {},
   "outputs": [
    {
     "data": {
      "text/plain": [
       "{23: 'twothree', 'B': 43, 'C': 'CCD'}"
      ]
     },
     "execution_count": 7,
     "metadata": {},
     "output_type": "execute_result"
    }
   ],
   "source": [
    "K"
   ]
  },
  {
   "cell_type": "code",
   "execution_count": 8,
   "id": "f33a5864",
   "metadata": {},
   "outputs": [
    {
     "name": "stdout",
     "output_type": "stream",
     "text": [
      "23 twothree\n",
      "B 43\n",
      "C CCD\n"
     ]
    }
   ],
   "source": [
    "for x in K:\n",
    "    print(x,K[x])"
   ]
  },
  {
   "cell_type": "code",
   "execution_count": 19,
   "id": "5146c0b0",
   "metadata": {},
   "outputs": [
    {
     "name": "stdout",
     "output_type": "stream",
     "text": [
      "{23: 'twothree', 'B': 43, 'C': 'CCD'}\n",
      "type : <class 'dict'>\n"
     ]
    }
   ],
   "source": [
    "L3 = [L,T,D,23,\"game\"]\n",
    "\n",
    "\"\"\"you can access an abstract list with element [2] that is a dictionary\"\"\"\n",
    "print(L3[2])\n",
    "print(\"type :\" , type(L3[2]))"
   ]
  },
  {
   "cell_type": "code",
   "execution_count": 21,
   "id": "c1ba6348",
   "metadata": {},
   "outputs": [
    {
     "data": {
      "text/plain": [
       "[0, 1, 4, 9, 16, 25, 36, 49, 64, 81]"
      ]
     },
     "execution_count": 21,
     "metadata": {},
     "output_type": "execute_result"
    }
   ],
   "source": [
    "\"\"\"giving the square of x in range 10\"\"\"\n",
    "L4 = [x**2 for x in range(10)]\n",
    "L4"
   ]
  },
  {
   "cell_type": "code",
   "execution_count": 24,
   "id": "c1d7ff41",
   "metadata": {},
   "outputs": [
    {
     "data": {
      "text/plain": [
       "{4, 25, 64, 121, 196, 289}"
      ]
     },
     "execution_count": 24,
     "metadata": {},
     "output_type": "execute_result"
    }
   ],
   "source": [
    "\"\"\"set of squares, starting from 2 , till 20 (not including), and jumping by 3\"\"\"\n",
    "S3 = {x**2 for x in range(2,20,3)} #start end step\n",
    "S3"
   ]
  },
  {
   "cell_type": "markdown",
   "id": "261d3459",
   "metadata": {},
   "source": [
    "### problem 1"
   ]
  },
  {
   "cell_type": "code",
   "execution_count": 5,
   "id": "bb6ce281",
   "metadata": {},
   "outputs": [],
   "source": [
    "\"\"\"you are a teacher and you have different student records,\n",
    "containing id, marks of subject.All this records are in hard copy,you want to enter all data in computer\n",
    "and comute average of marks of each student and display\"\"\"\n",
    "\n",
    "def getDataFromUser():\n",
    "    D = {}\n",
    "    while True:\n",
    "        studentId = input(\"enter student ID :\")\n",
    "        marksList = input(\"Enter the marks by comma separated values :\")\n",
    "        moreStudents = input('Enter \"no\" to quit insertion :')\n",
    "        if studentId in D:\n",
    "            print(studentId, \"is already inserted\")\n",
    "        else: \n",
    "            \"\"\"we give the key(studentId) values(marks) separated by comma\"\"\"\n",
    "            D[studentId] = marksList.split(\",\")\n",
    "        \"\"\"passing the answer no to lowercase, and returning D\"\"\"\n",
    "        if moreStudents.lower() == \"no\" :\n",
    "            return D"
   ]
  },
  {
   "cell_type": "code",
   "execution_count": 6,
   "id": "c59a6ac5",
   "metadata": {},
   "outputs": [
    {
     "name": "stdout",
     "output_type": "stream",
     "text": [
      "enter student ID :12\n",
      "Enter the marks by comma separated values :14,85,77,4\n",
      "Enter \"no\" to quit insertion :fgh\n",
      "enter student ID :5\n",
      "Enter the marks by comma separated values :1,66,55,77\n",
      "Enter \"no\" to quit insertion :asdasd\n",
      "enter student ID :67\n",
      "Enter the marks by comma separated values :88,85,64\n",
      "Enter \"no\" to quit insertion :asd\n",
      "enter student ID :43\n",
      "Enter the marks by comma separated values :62,60,2,90,70\n",
      "Enter \"no\" to quit insertion :no\n"
     ]
    }
   ],
   "source": [
    "studentData = getDataFromUser()"
   ]
  },
  {
   "cell_type": "code",
   "execution_count": 7,
   "id": "d2de951c",
   "metadata": {},
   "outputs": [
    {
     "data": {
      "text/plain": [
       "{'12': ['14', '85', '77', '4'],\n",
       " '5': ['1', '66', '55', '77'],\n",
       " '67': ['88', '85', '64'],\n",
       " '43': ['62', '60', '2', '90', '70']}"
      ]
     },
     "execution_count": 7,
     "metadata": {},
     "output_type": "execute_result"
    }
   ],
   "source": [
    "studentData"
   ]
  },
  {
   "cell_type": "code",
   "execution_count": 10,
   "id": "bbab07fd",
   "metadata": {},
   "outputs": [],
   "source": [
    "def getAvgMarks(D):\n",
    "    avgMarks= {}\n",
    "    \"\"\"we separate each student marks\"\"\"\n",
    "    for x in D:\n",
    "        L = D[x]\n",
    "        s = 0\n",
    "        \"\"\"we add marks and convert to int\"\"\"\n",
    "        for marks in L:\n",
    "            s += int(marks)\n",
    "        \"\"\"each element of avgMarks equals sum of all divided by lenght of L\"\"\"\n",
    "        avgMarks[x] = s/len(L)\n",
    "    return avgMarks"
   ]
  },
  {
   "cell_type": "code",
   "execution_count": 11,
   "id": "fcbc1a65",
   "metadata": {},
   "outputs": [],
   "source": [
    "avgM = getAvgMarks(studentData)"
   ]
  },
  {
   "cell_type": "code",
   "execution_count": 16,
   "id": "6a0856f8",
   "metadata": {},
   "outputs": [
    {
     "data": {
      "text/plain": [
       "{'12': 45.0, '5': 49.75, '67': 79.0, '43': 56.8}"
      ]
     },
     "execution_count": 16,
     "metadata": {},
     "output_type": "execute_result"
    }
   ],
   "source": [
    "avgM"
   ]
  },
  {
   "cell_type": "code",
   "execution_count": 17,
   "id": "04edf2c5",
   "metadata": {},
   "outputs": [
    {
     "name": "stdout",
     "output_type": "stream",
     "text": [
      "Student :  12 / got avg marks as :  45.0\n",
      "Student :  5 / got avg marks as :  49.75\n",
      "Student :  67 / got avg marks as :  79.0\n",
      "Student :  43 / got avg marks as :  56.8\n"
     ]
    }
   ],
   "source": [
    "for x in avgM:\n",
    "    print(\"Student : \",x,\"/ got avg marks as : \",avgM[x]) #indexing value"
   ]
  },
  {
   "cell_type": "markdown",
   "id": "eecf9557",
   "metadata": {},
   "source": [
    "# @ Numpy\n",
    "##### comes with python Anaconda \n",
    "(for numeric type data)"
   ]
  },
  {
   "cell_type": "markdown",
   "id": "9f21b793",
   "metadata": {},
   "source": [
    "## --- IMPORT --- "
   ]
  },
  {
   "cell_type": "code",
   "execution_count": 18,
   "id": "14644677",
   "metadata": {},
   "outputs": [],
   "source": [
    "import numpy as np"
   ]
  },
  {
   "cell_type": "markdown",
   "id": "dae662ef",
   "metadata": {},
   "source": [
    "## --- TYPES ---   (specifying)\n",
    "## [ ], dtype = 'i' (int)\n",
    "\n",
    "## [ ], dtype = 'f' (float)"
   ]
  },
  {
   "cell_type": "code",
   "execution_count": 25,
   "id": "b38078ad",
   "metadata": {},
   "outputs": [],
   "source": [
    "a = np.array([1,2,3,5,7], dtype='i') #int"
   ]
  },
  {
   "cell_type": "code",
   "execution_count": 26,
   "id": "c873afba",
   "metadata": {},
   "outputs": [],
   "source": [
    "b = np.array((2,3,5), dtype='f') #float"
   ]
  },
  {
   "cell_type": "code",
   "execution_count": 31,
   "id": "fedd9400",
   "metadata": {},
   "outputs": [
    {
     "name": "stdout",
     "output_type": "stream",
     "text": [
      "<class 'numpy.ndarray'>\n",
      "<class 'numpy.ndarray'>\n"
     ]
    }
   ],
   "source": [
    "\"\"\"no longer this\"\"\"\n",
    "print(type(a))\n",
    "print(type(b))"
   ]
  },
  {
   "cell_type": "markdown",
   "id": "9bb8b5be",
   "metadata": {},
   "source": [
    "### ... how to know the types in Numpy ?\n",
    "## x.dtype"
   ]
  },
  {
   "cell_type": "code",
   "execution_count": 29,
   "id": "8c0418ea",
   "metadata": {},
   "outputs": [
    {
     "name": "stdout",
     "output_type": "stream",
     "text": [
      "int32\n",
      "float32\n"
     ]
    }
   ],
   "source": [
    "print(a.dtype)\n",
    "print(b.dtype)"
   ]
  },
  {
   "cell_type": "markdown",
   "id": "c50c6e06",
   "metadata": {},
   "source": [
    "## --- DIMENSIONS --"
   ]
  },
  {
   "cell_type": "code",
   "execution_count": 32,
   "id": "46c5f0c0",
   "metadata": {},
   "outputs": [],
   "source": [
    "\"\"\"2 dimensionsional array\"\"\"\n",
    "import numpy as np\n",
    "a = np.array([[1,2,3],[4,5,6]])"
   ]
  },
  {
   "cell_type": "markdown",
   "id": "cc20b5ad",
   "metadata": {},
   "source": [
    "### ... see the dimensions of the array\n",
    "## .ndim"
   ]
  },
  {
   "cell_type": "code",
   "execution_count": 34,
   "id": "0a6cca2a",
   "metadata": {},
   "outputs": [
    {
     "data": {
      "text/plain": [
       "2"
      ]
     },
     "execution_count": 34,
     "metadata": {},
     "output_type": "execute_result"
    }
   ],
   "source": [
    "a.ndim"
   ]
  },
  {
   "cell_type": "markdown",
   "id": "5c1bbf3b",
   "metadata": {},
   "source": [
    "### ...accessing element\n",
    "input :\n",
    "## array[arrayN, arrayIndx]\n",
    "(number of elements should stay consistent)"
   ]
  },
  {
   "cell_type": "code",
   "execution_count": 43,
   "id": "c2a261e0",
   "metadata": {},
   "outputs": [
    {
     "data": {
      "text/plain": [
       "3"
      ]
     },
     "execution_count": 43,
     "metadata": {},
     "output_type": "execute_result"
    }
   ],
   "source": [
    "a = np.array([[1,2,3],[4,5,6]])\n",
    "a[0,2]"
   ]
  },
  {
   "cell_type": "code",
   "execution_count": 41,
   "id": "dd9701df",
   "metadata": {},
   "outputs": [
    {
     "data": {
      "text/plain": [
       "5"
      ]
     },
     "execution_count": 41,
     "metadata": {},
     "output_type": "execute_result"
    }
   ],
   "source": [
    "\"\"\"multidimentional array number of elements should stay consistent\"\"\"\n",
    "B = np.array([[1,2,3,-1],[2,4,5,9]])\n",
    "B[1,2]"
   ]
  },
  {
   "cell_type": "code",
   "execution_count": 42,
   "id": "07d90444",
   "metadata": {},
   "outputs": [
    {
     "data": {
      "text/plain": [
       "2"
      ]
     },
     "execution_count": 42,
     "metadata": {},
     "output_type": "execute_result"
    }
   ],
   "source": [
    "B.ndim"
   ]
  },
  {
   "cell_type": "code",
   "execution_count": 2,
   "id": "532c095d",
   "metadata": {},
   "outputs": [],
   "source": [
    "\"\"\"3 dimentional array\"\"\"\n",
    "import numpy as np\n",
    "C = np.array([[[1,2,3],[4,5,6],[0,0,-11]],[[-1,-2,-3],[-4,-5,-6],[0,0,1]]])"
   ]
  },
  {
   "cell_type": "code",
   "execution_count": 46,
   "id": "50b775c7",
   "metadata": {},
   "outputs": [
    {
     "data": {
      "text/plain": [
       "3"
      ]
     },
     "execution_count": 46,
     "metadata": {},
     "output_type": "execute_result"
    }
   ],
   "source": [
    "C.ndim"
   ]
  },
  {
   "cell_type": "code",
   "execution_count": 4,
   "id": "d9b5cb0d",
   "metadata": {},
   "outputs": [
    {
     "data": {
      "text/plain": [
       "-3"
      ]
     },
     "execution_count": 4,
     "metadata": {},
     "output_type": "execute_result"
    }
   ],
   "source": [
    "\"\"\"accessing -3\"\"\"\n",
    "C[1,0,2]"
   ]
  },
  {
   "cell_type": "code",
   "execution_count": 8,
   "id": "eccab1e5",
   "metadata": {},
   "outputs": [
    {
     "name": "stdout",
     "output_type": "stream",
     "text": [
      "int32\n"
     ]
    }
   ],
   "source": [
    "print(C.dtype)"
   ]
  },
  {
   "cell_type": "markdown",
   "id": "591e36a9",
   "metadata": {},
   "source": [
    "### ... indexing & slicing arrays\n",
    "## .shape \n",
    "output :\n",
    "#### (Narrays, InsideArraysOfEach, NElementsInside)"
   ]
  },
  {
   "cell_type": "code",
   "execution_count": 14,
   "id": "709c12a2",
   "metadata": {},
   "outputs": [
    {
     "data": {
      "text/plain": [
       "(2, 3, 3)"
      ]
     },
     "execution_count": 14,
     "metadata": {},
     "output_type": "execute_result"
    }
   ],
   "source": [
    "import numpy as np\n",
    "C = np.array([[[1,2,3],[4,5,6],[0,0,-11]],[[-1,-2,-3],[-4,-5,-6],[0,0,1]]])\n",
    "C.shape #how many arrays, and arrays inside array, and elements of each"
   ]
  },
  {
   "cell_type": "code",
   "execution_count": 12,
   "id": "f1a41e04",
   "metadata": {},
   "outputs": [
    {
     "name": "stdout",
     "output_type": "stream",
     "text": [
      "2\n",
      "3\n",
      "3\n"
     ]
    }
   ],
   "source": [
    "\"\"\"total number of 2 dimentional arrays\"\"\"\n",
    "print(C.shape[0])\n",
    "\"\"\"how many arrays inside of each array\"\"\"\n",
    "print(C.shape[1])\n",
    "\"\"\"how many elements in each array\"\"\"\n",
    "print(C.shape[2])"
   ]
  },
  {
   "cell_type": "markdown",
   "id": "a227ecdf",
   "metadata": {},
   "source": [
    "# --- other functions ---\n",
    "## np.arange()\n",
    "### ...creates an arrange from 0  to the number you put here (100) minus 1"
   ]
  },
  {
   "cell_type": "code",
   "execution_count": 8,
   "id": "6b2eee76",
   "metadata": {},
   "outputs": [
    {
     "name": "stdout",
     "output_type": "stream",
     "text": [
      "[20 22 24 26 28 30 32 34 36 38 40 42 44 46 48 50 52 54 56 58 60 62 64 66\n",
      " 68 70 72 74 76 78 80 82 84 86 88 90 92 94 96 98]\n"
     ]
    }
   ],
   "source": [
    "import numpy as np\n",
    "\"\"\"creates arrange from 20 till 100-1, with step 2\",\n",
    "similar to :\"\"\" #for i in range(20,100,2)\n",
    "\"\"\"\"\"\"\n",
    "\n",
    "A = np.arange(20,100,2)\n",
    "print(A)"
   ]
  },
  {
   "cell_type": "markdown",
   "id": "cec98350",
   "metadata": {},
   "source": [
    "## np.random.permutation()\n",
    "### ... random values in array shuffled"
   ]
  },
  {
   "cell_type": "code",
   "execution_count": 10,
   "id": "42d63235",
   "metadata": {},
   "outputs": [
    {
     "name": "stdout",
     "output_type": "stream",
     "text": [
      "[5 3 6 8 1 9 4 2 7 0]\n"
     ]
    }
   ],
   "source": [
    "\"\"\"np.random creates random values, permutation re-shuffles\n",
    "them, and (np.arange(10)creates arrange from 0 to 9)\"\"\"\n",
    "A = np.random.permutation(np.arange(10))\n",
    "print(A)"
   ]
  },
  {
   "cell_type": "code",
   "execution_count": 4,
   "id": "b08f26c4",
   "metadata": {},
   "outputs": [
    {
     "name": "stdout",
     "output_type": "stream",
     "text": [
      "[0.83374579 0.51988442 0.79928776 0.55686248 0.86825441 0.75940856\n",
      " 0.72661836 0.79813906 0.23511595 0.10937513]\n"
     ]
    }
   ],
   "source": [
    "import numpy as np\n",
    "A = np.random.rand(10)\n",
    "print(A)"
   ]
  },
  {
   "cell_type": "code",
   "execution_count": 5,
   "id": "c74d7307",
   "metadata": {},
   "outputs": [
    {
     "data": {
      "text/plain": [
       "(array([1., 0., 0., 0., 0., 0., 0., 0., 0., 0., 0., 0., 0., 0., 0., 0., 1.,\n",
       "        0., 0., 0., 0., 0., 0., 0., 0., 0., 0., 0., 0., 0., 0., 0., 0., 0.,\n",
       "        0., 0., 0., 0., 0., 0., 0., 0., 0., 0., 0., 0., 0., 0., 0., 0., 0.,\n",
       "        0., 0., 0., 1., 0., 0., 0., 1., 0., 0., 0., 0., 0., 0., 0., 0., 0.,\n",
       "        0., 0., 0., 0., 0., 0., 0., 0., 0., 0., 0., 0., 0., 1., 0., 0., 0.,\n",
       "        1., 0., 0., 0., 0., 2., 0., 0., 0., 0., 1., 0., 0., 0., 1.]),\n",
       " array([0.10937513, 0.11696392, 0.12455271, 0.13214151, 0.1397303 ,\n",
       "        0.14731909, 0.15490788, 0.16249668, 0.17008547, 0.17767426,\n",
       "        0.18526306, 0.19285185, 0.20044064, 0.20802943, 0.21561823,\n",
       "        0.22320702, 0.23079581, 0.2383846 , 0.2459734 , 0.25356219,\n",
       "        0.26115098, 0.26873978, 0.27632857, 0.28391736, 0.29150615,\n",
       "        0.29909495, 0.30668374, 0.31427253, 0.32186133, 0.32945012,\n",
       "        0.33703891, 0.3446277 , 0.3522165 , 0.35980529, 0.36739408,\n",
       "        0.37498288, 0.38257167, 0.39016046, 0.39774925, 0.40533805,\n",
       "        0.41292684, 0.42051563, 0.42810443, 0.43569322, 0.44328201,\n",
       "        0.4508708 , 0.4584596 , 0.46604839, 0.47363718, 0.48122598,\n",
       "        0.48881477, 0.49640356, 0.50399235, 0.51158115, 0.51916994,\n",
       "        0.52675873, 0.53434753, 0.54193632, 0.54952511, 0.5571139 ,\n",
       "        0.5647027 , 0.57229149, 0.57988028, 0.58746907, 0.59505787,\n",
       "        0.60264666, 0.61023545, 0.61782425, 0.62541304, 0.63300183,\n",
       "        0.64059062, 0.64817942, 0.65576821, 0.663357  , 0.6709458 ,\n",
       "        0.67853459, 0.68612338, 0.69371217, 0.70130097, 0.70888976,\n",
       "        0.71647855, 0.72406735, 0.73165614, 0.73924493, 0.74683372,\n",
       "        0.75442252, 0.76201131, 0.7696001 , 0.7771889 , 0.78477769,\n",
       "        0.79236648, 0.79995527, 0.80754407, 0.81513286, 0.82272165,\n",
       "        0.83031045, 0.83789924, 0.84548803, 0.85307682, 0.86066562,\n",
       "        0.86825441]),\n",
       " <BarContainer object of 100 artists>)"
      ]
     },
     "execution_count": 5,
     "metadata": {},
     "output_type": "execute_result"
    },
    {
     "data": {
      "image/png": "[encoded data removed]",
      "text/plain": [
       "<Figure size 432x288 with 1 Axes>"
      ]
     },
     "metadata": {
      "needs_background": "light"
     },
     "output_type": "display_data"
    }
   ],
   "source": [
    "import matplotlib.pyplot as plt\n",
    "plt.hist(A,bins=100)"
   ]
  },
  {
   "cell_type": "code",
   "execution_count": 7,
   "id": "25ac1bc7",
   "metadata": {},
   "outputs": [
    {
     "data": {
      "text/plain": [
       "(array([1.000e+00, 0.000e+00, 0.000e+00, 0.000e+00, 0.000e+00, 0.000e+00,\n",
       "        0.000e+00, 0.000e+00, 0.000e+00, 0.000e+00, 0.000e+00, 0.000e+00,\n",
       "        0.000e+00, 0.000e+00, 0.000e+00, 0.000e+00, 0.000e+00, 0.000e+00,\n",
       "        0.000e+00, 0.000e+00, 0.000e+00, 1.000e+00, 0.000e+00, 1.000e+00,\n",
       "        0.000e+00, 0.000e+00, 0.000e+00, 2.000e+00, 1.000e+00, 0.000e+00,\n",
       "        1.000e+00, 0.000e+00, 0.000e+00, 1.000e+00, 0.000e+00, 1.000e+00,\n",
       "        4.000e+00, 2.000e+00, 0.000e+00, 4.000e+00, 6.000e+00, 3.000e+00,\n",
       "        9.000e+00, 9.000e+00, 9.000e+00, 6.000e+00, 1.200e+01, 1.700e+01,\n",
       "        1.600e+01, 2.000e+01, 1.700e+01, 2.000e+01, 3.500e+01, 3.000e+01,\n",
       "        3.600e+01, 3.600e+01, 4.100e+01, 6.300e+01, 6.300e+01, 7.300e+01,\n",
       "        8.400e+01, 8.400e+01, 1.040e+02, 1.310e+02, 1.270e+02, 1.640e+02,\n",
       "        1.590e+02, 1.990e+02, 1.860e+02, 2.480e+02, 2.700e+02, 2.960e+02,\n",
       "        3.220e+02, 3.150e+02, 3.420e+02, 4.320e+02, 4.280e+02, 4.270e+02,\n",
       "        5.340e+02, 5.710e+02, 6.310e+02, 6.680e+02, 7.050e+02, 7.590e+02,\n",
       "        8.170e+02, 8.480e+02, 9.380e+02, 1.010e+03, 1.011e+03, 1.098e+03,\n",
       "        1.110e+03, 1.215e+03, 1.225e+03, 1.275e+03, 1.382e+03, 1.408e+03,\n",
       "        1.417e+03, 1.504e+03, 1.635e+03, 1.609e+03, 1.596e+03, 1.656e+03,\n",
       "        1.747e+03, 1.794e+03, 1.782e+03, 1.848e+03, 1.898e+03, 1.903e+03,\n",
       "        1.950e+03, 1.878e+03, 1.920e+03, 1.989e+03, 1.907e+03, 1.914e+03,\n",
       "        1.974e+03, 1.873e+03, 1.955e+03, 1.892e+03, 1.767e+03, 1.789e+03,\n",
       "        1.820e+03, 1.745e+03, 1.664e+03, 1.710e+03, 1.639e+03, 1.580e+03,\n",
       "        1.530e+03, 1.375e+03, 1.370e+03, 1.389e+03, 1.291e+03, 1.329e+03,\n",
       "        1.188e+03, 1.130e+03, 1.065e+03, 9.880e+02, 9.340e+02, 8.470e+02,\n",
       "        8.590e+02, 7.670e+02, 7.610e+02, 6.570e+02, 6.210e+02, 6.210e+02,\n",
       "        5.550e+02, 5.330e+02, 4.490e+02, 4.330e+02, 3.880e+02, 3.660e+02,\n",
       "        3.250e+02, 2.910e+02, 2.780e+02, 2.300e+02, 2.300e+02, 1.990e+02,\n",
       "        1.840e+02, 1.620e+02, 1.430e+02, 1.290e+02, 1.280e+02, 9.600e+01,\n",
       "        9.300e+01, 9.100e+01, 6.800e+01, 5.700e+01, 5.100e+01, 4.900e+01,\n",
       "        5.000e+01, 3.900e+01, 3.200e+01, 3.400e+01, 2.400e+01, 2.100e+01,\n",
       "        2.400e+01, 1.400e+01, 1.400e+01, 1.300e+01, 8.000e+00, 9.000e+00,\n",
       "        7.000e+00, 1.000e+01, 3.000e+00, 6.000e+00, 8.000e+00, 7.000e+00,\n",
       "        0.000e+00, 4.000e+00, 0.000e+00, 0.000e+00, 0.000e+00, 1.000e+00,\n",
       "        1.000e+00, 0.000e+00, 0.000e+00, 0.000e+00, 1.000e+00, 0.000e+00,\n",
       "        0.000e+00, 2.000e+00]),\n",
       " array([-5.4457443 , -5.39705614, -5.34836799, -5.29967983, -5.25099167,\n",
       "        -5.20230351, -5.15361535, -5.10492719, -5.05623903, -5.00755087,\n",
       "        -4.95886271, -4.91017455, -4.86148639, -4.81279824, -4.76411008,\n",
       "        -4.71542192, -4.66673376, -4.6180456 , -4.56935744, -4.52066928,\n",
       "        -4.47198112, -4.42329296, -4.3746048 , -4.32591664, -4.27722849,\n",
       "        -4.22854033, -4.17985217, -4.13116401, -4.08247585, -4.03378769,\n",
       "        -3.98509953, -3.93641137, -3.88772321, -3.83903505, -3.79034689,\n",
       "        -3.74165874, -3.69297058, -3.64428242, -3.59559426, -3.5469061 ,\n",
       "        -3.49821794, -3.44952978, -3.40084162, -3.35215346, -3.3034653 ,\n",
       "        -3.25477714, -3.20608898, -3.15740083, -3.10871267, -3.06002451,\n",
       "        -3.01133635, -2.96264819, -2.91396003, -2.86527187, -2.81658371,\n",
       "        -2.76789555, -2.71920739, -2.67051923, -2.62183108, -2.57314292,\n",
       "        -2.52445476, -2.4757666 , -2.42707844, -2.37839028, -2.32970212,\n",
       "        -2.28101396, -2.2323258 , -2.18363764, -2.13494948, -2.08626133,\n",
       "        -2.03757317, -1.98888501, -1.94019685, -1.89150869, -1.84282053,\n",
       "        -1.79413237, -1.74544421, -1.69675605, -1.64806789, -1.59937973,\n",
       "        -1.55069158, -1.50200342, -1.45331526, -1.4046271 , -1.35593894,\n",
       "        -1.30725078, -1.25856262, -1.20987446, -1.1611863 , -1.11249814,\n",
       "        -1.06380998, -1.01512183, -0.96643367, -0.91774551, -0.86905735,\n",
       "        -0.82036919, -0.77168103, -0.72299287, -0.67430471, -0.62561655,\n",
       "        -0.57692839, -0.52824023, -0.47955208, -0.43086392, -0.38217576,\n",
       "        -0.3334876 , -0.28479944, -0.23611128, -0.18742312, -0.13873496,\n",
       "        -0.0900468 , -0.04135864,  0.00732952,  0.05601768,  0.10470583,\n",
       "         0.15339399,  0.20208215,  0.25077031,  0.29945847,  0.34814663,\n",
       "         0.39683479,  0.44552295,  0.49421111,  0.54289927,  0.59158743,\n",
       "         0.64027558,  0.68896374,  0.7376519 ,  0.78634006,  0.83502822,\n",
       "         0.88371638,  0.93240454,  0.9810927 ,  1.02978086,  1.07846902,\n",
       "         1.12715718,  1.17584533,  1.22453349,  1.27322165,  1.32190981,\n",
       "         1.37059797,  1.41928613,  1.46797429,  1.51666245,  1.56535061,\n",
       "         1.61403877,  1.66272693,  1.71141508,  1.76010324,  1.8087914 ,\n",
       "         1.85747956,  1.90616772,  1.95485588,  2.00354404,  2.0522322 ,\n",
       "         2.10092036,  2.14960852,  2.19829668,  2.24698483,  2.29567299,\n",
       "         2.34436115,  2.39304931,  2.44173747,  2.49042563,  2.53911379,\n",
       "         2.58780195,  2.63649011,  2.68517827,  2.73386643,  2.78255459,\n",
       "         2.83124274,  2.8799309 ,  2.92861906,  2.97730722,  3.02599538,\n",
       "         3.07468354,  3.1233717 ,  3.17205986,  3.22074802,  3.26943618,\n",
       "         3.31812434,  3.36681249,  3.41550065,  3.46418881,  3.51287697,\n",
       "         3.56156513,  3.61025329,  3.65894145,  3.70762961,  3.75631777,\n",
       "         3.80500593,  3.85369409,  3.90238224,  3.9510704 ,  3.99975856,\n",
       "         4.04844672,  4.09713488,  4.14582304,  4.1945112 ,  4.24319936,\n",
       "         4.29188752]),\n",
       " <BarContainer object of 200 artists>)"
      ]
     },
     "execution_count": 7,
     "metadata": {},
     "output_type": "execute_result"
    },
    {
     "data": {
      "image/png": "[encoded data removed]",
      "text/plain": [
       "<Figure size 432x288 with 1 Axes>"
      ]
     },
     "metadata": {
      "needs_background": "light"
     },
     "output_type": "display_data"
    }
   ],
   "source": [
    "B=np.random.randn(100000)\n",
    "plt.hist(B,bins=200)"
   ]
  },
  {
   "cell_type": "markdown",
   "id": "03d2cd8d",
   "metadata": {},
   "source": [
    "## np.reshape()\n",
    "### ...creates a matrix, (rows,columns)"
   ]
  },
  {
   "cell_type": "code",
   "execution_count": 10,
   "id": "b4009c9f",
   "metadata": {},
   "outputs": [
    {
     "name": "stdout",
     "output_type": "stream",
     "text": [
      "[[0.56242887 0.56101279 0.17863604]\n",
      " [0.07957975 0.46795374 0.79416194]]\n",
      "2\n"
     ]
    }
   ],
   "source": [
    "C = np.random.rand(2,3)\n",
    "print(C)\n",
    "print(C.ndim)"
   ]
  },
  {
   "cell_type": "markdown",
   "id": "bfe055c9",
   "metadata": {},
   "source": [
    "### ... 4 dimentional array"
   ]
  },
  {
   "cell_type": "code",
   "execution_count": 13,
   "id": "bf790c34",
   "metadata": {},
   "outputs": [
    {
     "name": "stdout",
     "output_type": "stream",
     "text": [
      "[[[[0.75829109 0.27208426]\n",
      "   [0.22542898 0.69626904]\n",
      "   [0.51431102 0.47762775]\n",
      "   [0.84501493 0.2063176 ]]\n",
      "\n",
      "  [[0.32973026 0.30497676]\n",
      "   [0.2620921  0.81528317]\n",
      "   [0.17046653 0.33456273]\n",
      "   [0.76829399 0.63722789]]\n",
      "\n",
      "  [[0.39006203 0.87425688]\n",
      "   [0.06504122 0.53586011]\n",
      "   [0.92905903 0.32259475]\n",
      "   [0.38297746 0.88992151]]]\n",
      "\n",
      "\n",
      " [[[0.57382939 0.69108304]\n",
      "   [0.12625987 0.07507081]\n",
      "   [0.88230421 0.44768396]\n",
      "   [0.4019544  0.47795908]]\n",
      "\n",
      "  [[0.59110696 0.00691798]\n",
      "   [0.06207831 0.02760973]\n",
      "   [0.66392463 0.07040608]\n",
      "   [0.96094258 0.46444049]]\n",
      "\n",
      "  [[0.20633693 0.98599544]\n",
      "   [0.64313957 0.25904861]\n",
      "   [0.21602013 0.6570701 ]\n",
      "   [0.02075588 0.02527722]]]]\n"
     ]
    }
   ],
   "source": [
    "\"\"\"2 diment arrays has 3 arrays inside, of 4 rows each and 2 columns\"\"\"\n",
    "C = np.random.rand(2,3,4,2)\n",
    "print(C)"
   ]
  },
  {
   "cell_type": "markdown",
   "id": "dfed6dcb",
   "metadata": {},
   "source": [
    "### reshape() ... to shape the array/matrix"
   ]
  },
  {
   "cell_type": "code",
   "execution_count": 22,
   "id": "bd3cdf53",
   "metadata": {},
   "outputs": [
    {
     "name": "stdout",
     "output_type": "stream",
     "text": [
      "[[ 0  1  2  3  4  5  6  7  8  9]\n",
      " [10 11 12 13 14 15 16 17 18 19]\n",
      " [20 21 22 23 24 25 26 27 28 29]\n",
      " [30 31 32 33 34 35 36 37 38 39]]\n"
     ]
    }
   ],
   "source": [
    "\"\"\"an array from 0 to 99 in shape of : 4 rows, 10 columns\"\"\"\n",
    "D = np.arange(40).reshape(4,10)\n",
    "D.shape\n",
    "print(D)"
   ]
  },
  {
   "cell_type": "code",
   "execution_count": 34,
   "id": "4d32b1ea",
   "metadata": {},
   "outputs": [
    {
     "data": {
      "text/plain": [
       "(4, 10)"
      ]
     },
     "execution_count": 34,
     "metadata": {},
     "output_type": "execute_result"
    }
   ],
   "source": [
    "\"\"\"see the shape you gave in .reshape()\"\"\"\n",
    "D.shape"
   ]
  },
  {
   "cell_type": "code",
   "execution_count": 32,
   "id": "1a6c73c2",
   "metadata": {},
   "outputs": [],
   "source": [
    "\"\"\"fill array w ones\"\"\"\n",
    "np.zeros?"
   ]
  },
  {
   "cell_type": "code",
   "execution_count": 33,
   "id": "0c694456",
   "metadata": {},
   "outputs": [],
   "source": [
    "\"\"\"fill array w zeros\"\"\"\n",
    "np.ones?"
   ]
  },
  {
   "cell_type": "code",
   "execution_count": 36,
   "id": "dbf4811a",
   "metadata": {},
   "outputs": [
    {
     "name": "stdout",
     "output_type": "stream",
     "text": [
      "[[[ 0  1  2  3  4]\n",
      "  [ 5  6  7  8  9]\n",
      "  [10 11 12 13 14]\n",
      "  [15 16 17 18 19]\n",
      "  [20 21 22 23 24]]\n",
      "\n",
      " [[25 26 27 28 29]\n",
      "  [30 31 32 33 34]\n",
      "  [35 36 37 38 39]\n",
      "  [40 41 42 43 44]\n",
      "  [45 46 47 48 49]]\n",
      "\n",
      " [[50 51 52 53 54]\n",
      "  [55 56 57 58 59]\n",
      "  [60 61 62 63 64]\n",
      "  [65 66 67 68 69]\n",
      "  [70 71 72 73 74]]\n",
      "\n",
      " [[75 76 77 78 79]\n",
      "  [80 81 82 83 84]\n",
      "  [85 86 87 88 89]\n",
      "  [90 91 92 93 94]\n",
      "  [95 96 97 98 99]]]\n"
     ]
    }
   ],
   "source": [
    "\"\"\"3 dimentional array from 0 to 99 in shape of :\n",
    "4 arrays, of 5 rows, 5 columns\"\"\"\n",
    "D = np.arange(100).reshape(4,5,5)\n",
    "D.shape\n",
    "print(D)"
   ]
  },
  {
   "cell_type": "markdown",
   "id": "fb362673",
   "metadata": {},
   "source": [
    "# --- slicing ---\n",
    "input :\n",
    "## A[start:end:step]\n",
    "### ... arange is:"
   ]
  },
  {
   "cell_type": "code",
   "execution_count": 2,
   "id": "a98ed271",
   "metadata": {},
   "outputs": [
    {
     "ename": "NameError",
     "evalue": "name 'np' is not defined",
     "output_type": "error",
     "traceback": [
      "\u001b[1;31m---------------------------------------------------------------------------\u001b[0m",
      "\u001b[1;31mNameError\u001b[0m                                 Traceback (most recent call last)",
      "Input \u001b[1;32mIn [2]\u001b[0m, in \u001b[0;36m<cell line: 1>\u001b[1;34m()\u001b[0m\n\u001b[1;32m----> 1\u001b[0m A \u001b[38;5;241m=\u001b[39m \u001b[43mnp\u001b[49m\u001b[38;5;241m.\u001b[39marange(\u001b[38;5;241m100\u001b[39m)\n",
      "\u001b[1;31mNameError\u001b[0m: name 'np' is not defined"
     ]
    }
   ],
   "source": [
    "A = np.arange(100)"
   ]
  },
  {
   "cell_type": "markdown",
   "id": "0f0acd42",
   "metadata": {},
   "source": [
    "### ... how?"
   ]
  },
  {
   "cell_type": "code",
   "execution_count": 45,
   "id": "72f3d989",
   "metadata": {},
   "outputs": [
    {
     "data": {
      "text/plain": [
       "' '"
      ]
     },
     "execution_count": 45,
     "metadata": {},
     "output_type": "execute_result"
    }
   ],
   "source": [
    "\"\"\"idx 1 tiLL 5 but not 5\"\"\"\n",
    "A[1:5]\n",
    "\"\"\"idx 0 till 5 but not 5\"\"\"\n",
    "A[:5]\n",
    "\"\"\"idx 2 till end, including last element \"\"\"\n",
    "A[2:]\n",
    "\"\"\"REVERSED\"\"\"\n",
    "A[::-1]\n",
    "\"\"\"from start till end,going by 2\"\"\"\n",
    "A[::2]\n",
    "\"\"\" \"\"\"\n",
    "#A[::2,:]"
   ]
  },
  {
   "cell_type": "code",
   "execution_count": 41,
   "id": "fffe15c4",
   "metadata": {},
   "outputs": [
    {
     "name": "stdout",
     "output_type": "stream",
     "text": [
      "[3 4 5 6 7 8 9]\n"
     ]
    }
   ],
   "source": [
    "b = A[3:10]\n",
    "print(b)"
   ]
  },
  {
   "cell_type": "markdown",
   "id": "6d8bc099",
   "metadata": {},
   "source": [
    "### ...changing content of element in array"
   ]
  },
  {
   "cell_type": "code",
   "execution_count": 43,
   "id": "4769e6b4",
   "metadata": {},
   "outputs": [
    {
     "name": "stdout",
     "output_type": "stream",
     "text": [
      "[-1200     4     5     6     7     8     9]\n"
     ]
    }
   ],
   "source": [
    "#first element\n",
    "b[0] = -1200\n",
    "print(b)"
   ]
  },
  {
   "cell_type": "markdown",
   "id": "4cfd7ca8",
   "metadata": {},
   "source": [
    "## .copy()\n",
    "### ... create a different arange mutable. changing memory view"
   ]
  },
  {
   "cell_type": "code",
   "execution_count": 44,
   "id": "9a46a6ec",
   "metadata": {},
   "outputs": [],
   "source": [
    "b = A[3:10].copy()"
   ]
  },
  {
   "cell_type": "markdown",
   "id": "9ca54bdf",
   "metadata": {},
   "source": [
    "### ... from start till end, going by 5"
   ]
  },
  {
   "cell_type": "code",
   "execution_count": 46,
   "id": "3f83eec1",
   "metadata": {},
   "outputs": [
    {
     "name": "stdout",
     "output_type": "stream",
     "text": [
      "[ 0  5 10 15 20 25 30 35 40 45 50 55 60 65 70 75 80 85 90 95]\n"
     ]
    }
   ],
   "source": [
    "b = A[::5]\n",
    "print(b)"
   ]
  },
  {
   "cell_type": "markdown",
   "id": "303f5705",
   "metadata": {},
   "source": [
    "### ... reversed 5 by 5, -1 at the beginning"
   ]
  },
  {
   "cell_type": "code",
   "execution_count": 48,
   "id": "4deed46a",
   "metadata": {},
   "outputs": [
    {
     "name": "stdout",
     "output_type": "stream",
     "text": [
      "[99 94 89 84 79 74 69 64 59 54 49 44 39 34 29 24 19 14  9  4]\n"
     ]
    }
   ],
   "source": [
    "\"\"\"reversed 5 by 5,\n",
    "-1 at the beginning\"\"\"\n",
    "b = A[::-5]\n",
    "print(b)"
   ]
  },
  {
   "cell_type": "markdown",
   "id": "c2495f19",
   "metadata": {},
   "source": [
    "### ... start till end , 5 by 5"
   ]
  },
  {
   "cell_type": "code",
   "execution_count": 5,
   "id": "39c01b3d",
   "metadata": {},
   "outputs": [
    {
     "data": {
      "text/plain": [
       "array([ 0,  5, 10, 15, 20, 25, 30, 35, 40, 45, 50, 55, 60, 65, 70, 75, 80,\n",
       "       85, 90, 95])"
      ]
     },
     "execution_count": 5,
     "metadata": {},
     "output_type": "execute_result"
    }
   ],
   "source": [
    "import numpy as np\n",
    "A = np.arange(100)\n",
    "\n",
    "A[::5]"
   ]
  },
  {
   "cell_type": "markdown",
   "id": "88f8691a",
   "metadata": {},
   "source": [
    "## np.argwhere(A == element)[0][0]\n",
    "### ... find out the element idx value ?"
   ]
  },
  {
   "cell_type": "code",
   "execution_count": 15,
   "id": "7a18d059",
   "metadata": {},
   "outputs": [
    {
     "name": "stdout",
     "output_type": "stream",
     "text": [
      "[    0     1     2     3     4 -1200     6     7     8     9    10    11\n",
      "    12    13    14    15    16    17    18    19    20    21    22    23\n",
      "    24    25    26    27    28    29    30    31    32    33    34    35\n",
      "    36    37    38    39    40    41    42    43    44    45    46    47\n",
      "    48    49    50    51    52    53    54    55    56    57    58    59\n",
      "    60    61    62    63    64    65    66    67    68    69    70    71\n",
      "    72    73    74    75    76    77    78    79    80    81    82    83\n",
      "    84    85    86    87    88    89    90    91    92    93    94    95\n",
      "    96    97    98    99]\n"
     ]
    }
   ],
   "source": [
    "\"\"\"creating the element to search\"\"\"\n",
    "A[5] = -1200\n",
    "print(A)"
   ]
  },
  {
   "cell_type": "code",
   "execution_count": 13,
   "id": "ad4c4cc9",
   "metadata": {},
   "outputs": [
    {
     "name": "stdout",
     "output_type": "stream",
     "text": [
      "5\n"
     ]
    }
   ],
   "source": [
    "idx = np.argwhere(A == -1200)[0][0] #[0][0] with this you will get the idx\n",
    "print(idx)"
   ]
  },
  {
   "cell_type": "code",
   "execution_count": 16,
   "id": "1f851153",
   "metadata": {},
   "outputs": [
    {
     "data": {
      "text/plain": [
       "array([ 0,  1,  2,  3,  4,  5,  6,  7,  8,  9, 10, 11, 12, 13, 14, 15, 16,\n",
       "       17, 18, 19, 20, 21, 22, 23, 24, 25, 26, 27, 28, 29, 30, 31, 32, 33,\n",
       "       34, 35, 36, 37, 38, 39, 40, 41, 42, 43, 44, 45, 46, 47, 48, 49, 50,\n",
       "       51, 52, 53, 54, 55, 56, 57, 58, 59, 60, 61, 62, 63, 64, 65, 66, 67,\n",
       "       68, 69, 70, 71, 72, 73, 74, 75, 76, 77, 78, 79, 80, 81, 82, 83, 84,\n",
       "       85, 86, 87, 88, 89, 90, 91, 92, 93, 94, 95, 96, 97, 98, 99])"
      ]
     },
     "execution_count": 16,
     "metadata": {},
     "output_type": "execute_result"
    }
   ],
   "source": [
    "\"\"\"changing that value\"\"\"\n",
    "A[idx] = 5\n",
    "A"
   ]
  },
  {
   "cell_type": "markdown",
   "id": "81ba6942",
   "metadata": {},
   "source": [
    "### ... accessing columns and rows\n",
    "### ... array is:"
   ]
  },
  {
   "cell_type": "code",
   "execution_count": 17,
   "id": "148faff8",
   "metadata": {
    "scrolled": true
   },
   "outputs": [
    {
     "data": {
      "text/plain": [
       "array([[ 6.,  6.,  3., 10.],\n",
       "       [ 8.,  5.,  1.,  9.],\n",
       "       [ 6.,  5.,  9.,  9.],\n",
       "       [ 7.,  6.,  7.,  1.],\n",
       "       [ 5.,  5.,  6.,  5.]])"
      ]
     },
     "execution_count": 17,
     "metadata": {},
     "output_type": "execute_result"
    }
   ],
   "source": [
    "\"\"\"random array, multiplied by 10, and rounded\"\"\"\n",
    "A = np.round(10*np.random.rand(5,4))\n",
    "A"
   ]
  },
  {
   "cell_type": "code",
   "execution_count": 18,
   "id": "2da09183",
   "metadata": {},
   "outputs": [
    {
     "data": {
      "text/plain": [
       "1.0"
      ]
     },
     "execution_count": 18,
     "metadata": {},
     "output_type": "execute_result"
    }
   ],
   "source": [
    "\"\"\"accessing 2nd row & 3rd column \"\"\"\n",
    "A[1,2]"
   ]
  },
  {
   "cell_type": "code",
   "execution_count": 20,
   "id": "7f60b29f",
   "metadata": {},
   "outputs": [
    {
     "data": {
      "text/plain": [
       "array([8., 5., 1., 9.])"
      ]
     },
     "execution_count": 20,
     "metadata": {},
     "output_type": "execute_result"
    }
   ],
   "source": [
    "\"\"\"accessing whole second row\"\"\"\n",
    "A[1,:]"
   ]
  },
  {
   "cell_type": "code",
   "execution_count": 21,
   "id": "a099e1f6",
   "metadata": {},
   "outputs": [
    {
     "data": {
      "text/plain": [
       "array([6., 5., 5., 6., 5.])"
      ]
     },
     "execution_count": 21,
     "metadata": {},
     "output_type": "execute_result"
    }
   ],
   "source": [
    "\"\"\"accessing whole second column\"\"\"\n",
    "A[:,1]"
   ]
  },
  {
   "cell_type": "code",
   "execution_count": 22,
   "id": "72632955",
   "metadata": {},
   "outputs": [
    {
     "data": {
      "text/plain": [
       "array([[1., 9.],\n",
       "       [9., 9.]])"
      ]
     },
     "execution_count": 22,
     "metadata": {},
     "output_type": "execute_result"
    }
   ],
   "source": [
    "\"\"\"row n1 and row n3(not including), column 2 till 4 not including\"\"\"\n",
    "A[1:3,2:4]"
   ]
  },
  {
   "cell_type": "code",
   "execution_count": 23,
   "id": "e7342a8a",
   "metadata": {},
   "outputs": [
    {
     "data": {
      "text/plain": [
       "array([[ 6.,  6.,  3., 10.],\n",
       "       [ 8.,  5.,  1.,  9.],\n",
       "       [ 6.,  5.,  9.,  9.],\n",
       "       [ 7.,  6.,  7.,  1.],\n",
       "       [ 5.,  5.,  6.,  5.]])"
      ]
     },
     "execution_count": 23,
     "metadata": {},
     "output_type": "execute_result"
    }
   ],
   "source": [
    "A"
   ]
  },
  {
   "cell_type": "markdown",
   "id": "ef70eb7b",
   "metadata": {},
   "source": [
    "numpy, more...\n",
    "# --- indexing . ---"
   ]
  },
  {
   "cell_type": "code",
   "execution_count": 7,
   "id": "114b62fb",
   "metadata": {},
   "outputs": [],
   "source": [
    "#importing and generating array\n",
    "import numpy as np\n",
    "A = np.arange(100)"
   ]
  },
  {
   "cell_type": "markdown",
   "id": "61039413",
   "metadata": {},
   "source": [
    "### ...accessing elements\n",
    "this type of indexing generates a direct copy of the principal array(that's mutable) in B"
   ]
  },
  {
   "cell_type": "code",
   "execution_count": 5,
   "id": "48ea3bcc",
   "metadata": {},
   "outputs": [
    {
     "data": {
      "text/plain": [
       "array([3, 5, 6])"
      ]
     },
     "execution_count": 5,
     "metadata": {},
     "output_type": "execute_result"
    }
   ],
   "source": [
    "\"\"\"accessing particular elements\"\"\"\n",
    "B = A[[3,5,6]]\n",
    "B"
   ]
  },
  {
   "cell_type": "code",
   "execution_count": 6,
   "id": "d28b620f",
   "metadata": {},
   "outputs": [
    {
     "data": {
      "text/plain": [
       "array([ 0,  1,  2,  3,  4,  5,  6,  7,  8,  9, 10, 11, 12, 13, 14, 15, 16,\n",
       "       17, 18, 19, 20, 21, 22, 23, 24, 25, 26, 27, 28, 29, 30, 31, 32, 33,\n",
       "       34, 35, 36, 37, 38, 39, 40, 41, 42, 43, 44, 45, 46, 47, 48, 49, 50,\n",
       "       51, 52, 53, 54, 55, 56, 57, 58, 59, 60, 61, 62, 63, 64, 65, 66, 67,\n",
       "       68, 69, 70, 71, 72, 73, 74, 75, 76, 77, 78, 79, 80, 81, 82, 83, 84,\n",
       "       85, 86, 87, 88, 89, 90, 91, 92, 93, 94, 95, 96, 97, 98, 99])"
      ]
     },
     "execution_count": 6,
     "metadata": {},
     "output_type": "execute_result"
    }
   ],
   "source": [
    "#original array\n",
    "A"
   ]
  },
  {
   "cell_type": "code",
   "execution_count": 4,
   "id": "178f8b51",
   "metadata": {},
   "outputs": [
    {
     "data": {
      "text/plain": [
       "array([ 0,  1,  2,  3,  4,  5,  6,  7,  8,  9, 10, 11, 12, 13, 14, 15, 16,\n",
       "       17, 18, 19, 20, 21, 22, 23, 24, 25, 26, 27, 28, 29, 30, 31, 32, 33,\n",
       "       34, 35, 36, 37, 38, 39])"
      ]
     },
     "execution_count": 4,
     "metadata": {},
     "output_type": "execute_result"
    }
   ],
   "source": [
    "\"\"\"accessing all elements smaller than 40\"\"\"\n",
    "B = A[A<40]\n",
    "B"
   ]
  },
  {
   "cell_type": "code",
   "execution_count": 10,
   "id": "5ac2dcb3",
   "metadata": {},
   "outputs": [
    {
     "data": {
      "text/plain": [
       "array([31, 32, 33, 34, 35, 36, 37, 38, 39])"
      ]
     },
     "execution_count": 10,
     "metadata": {},
     "output_type": "execute_result"
    }
   ],
   "source": [
    "\"\"\"accessing all elements smaller than 40 & bigger than 30 () ()\"\"\"\n",
    "B = A[(A<40) & (A>30)]\n",
    "B"
   ]
  },
  {
   "cell_type": "markdown",
   "id": "b0b3d6d9",
   "metadata": {},
   "source": [
    "## &, and"
   ]
  },
  {
   "cell_type": "markdown",
   "id": "9fe4d63a",
   "metadata": {},
   "source": [
    "&(for arrays)\n",
    "\n",
    "and(for single objects)\n",
    "\n",
    "#~ ,not\n",
    "\n",
    "#| , or"
   ]
  },
  {
   "cell_type": "markdown",
   "id": "17e0a4af",
   "metadata": {},
   "source": [
    "\n",
    "# --- broadcasting ---\n",
    "(match dimentions of other arrays)\n",
    "numpy"
   ]
  },
  {
   "cell_type": "code",
   "execution_count": 19,
   "id": "037353cc",
   "metadata": {},
   "outputs": [
    {
     "data": {
      "text/plain": [
       "array([[ 8., 10.,  1.],\n",
       "       [ 6.,  9.,  6.]])"
      ]
     },
     "execution_count": 19,
     "metadata": {},
     "output_type": "execute_result"
    }
   ],
   "source": [
    "A = np.round(10*np.random.rand(2,3))\n",
    "A"
   ]
  },
  {
   "cell_type": "code",
   "execution_count": 21,
   "id": "d25f82aa",
   "metadata": {},
   "outputs": [
    {
     "data": {
      "text/plain": [
       "array([[11., 13.,  4.],\n",
       "       [ 9., 12.,  9.]])"
      ]
     },
     "execution_count": 21,
     "metadata": {},
     "output_type": "execute_result"
    }
   ],
   "source": [
    "A+3 #everything + 3"
   ]
  },
  {
   "cell_type": "code",
   "execution_count": 22,
   "id": "aff52a66",
   "metadata": {},
   "outputs": [
    {
     "data": {
      "text/plain": [
       "array([[ 8., 10.,  1.],\n",
       "       [ 7., 10.,  7.]])"
      ]
     },
     "execution_count": 22,
     "metadata": {},
     "output_type": "execute_result"
    }
   ],
   "source": [
    "A+(np.arange(2).reshape(2,1)) "
   ]
  },
  {
   "cell_type": "markdown",
   "id": "b11e617b",
   "metadata": {},
   "source": [
    "# --- stack ---\n",
    "## np.vstack(()) , np.hstack(()) \n",
    "\n"
   ]
  },
  {
   "cell_type": "code",
   "execution_count": 23,
   "id": "ed2e901b",
   "metadata": {},
   "outputs": [],
   "source": [
    "B = np.round(10*np.random.rand(2,2))"
   ]
  },
  {
   "cell_type": "code",
   "execution_count": 29,
   "id": "a25544da",
   "metadata": {},
   "outputs": [
    {
     "data": {
      "text/plain": [
       "array([[ 8., 10.,  1.],\n",
       "       [ 6.,  9.,  6.]])"
      ]
     },
     "execution_count": 29,
     "metadata": {},
     "output_type": "execute_result"
    }
   ],
   "source": [
    "A"
   ]
  },
  {
   "cell_type": "code",
   "execution_count": 28,
   "id": "d473e953",
   "metadata": {},
   "outputs": [
    {
     "data": {
      "text/plain": [
       "array([[3., 1.],\n",
       "       [6., 6.]])"
      ]
     },
     "execution_count": 28,
     "metadata": {},
     "output_type": "execute_result"
    }
   ],
   "source": [
    "B"
   ]
  },
  {
   "cell_type": "markdown",
   "id": "0e7bb862",
   "metadata": {},
   "source": [
    "### ...concatenate horizontal\n",
    "## np.hstack(())"
   ]
  },
  {
   "cell_type": "code",
   "execution_count": 30,
   "id": "696377aa",
   "metadata": {},
   "outputs": [
    {
     "data": {
      "text/plain": [
       "array([[ 8., 10.,  1.,  3.,  1.],\n",
       "       [ 6.,  9.,  6.,  6.,  6.]])"
      ]
     },
     "execution_count": 30,
     "metadata": {},
     "output_type": "execute_result"
    }
   ],
   "source": [
    "C = np.hstack((A,B))# you may put them in a tuple\n",
    "C"
   ]
  },
  {
   "cell_type": "markdown",
   "id": "298111ae",
   "metadata": {},
   "source": [
    "### ...concatenate vertical"
   ]
  },
  {
   "cell_type": "code",
   "execution_count": null,
   "id": "b0f8561c",
   "metadata": {},
   "outputs": [],
   "source": []
  },
  {
   "cell_type": "markdown",
   "id": "2f50dc9a",
   "metadata": {},
   "source": [
    "# --- sort ---\n",
    "##  sort() and np.sort() "
   ]
  },
  {
   "cell_type": "code",
   "execution_count": 37,
   "id": "d24c2be5",
   "metadata": {},
   "outputs": [
    {
     "data": {
      "text/plain": [
       "array([8, 1, 9, 5, 0, 7, 2, 4, 3, 6])"
      ]
     },
     "execution_count": 37,
     "metadata": {},
     "output_type": "execute_result"
    }
   ],
   "source": [
    "#random array of 10\n",
    "A = np.random.permutation(np.arange(10))\n",
    "A"
   ]
  },
  {
   "cell_type": "code",
   "execution_count": 35,
   "id": "abe639cd",
   "metadata": {},
   "outputs": [
    {
     "data": {
      "text/plain": [
       "array([0, 1, 2, 3, 4, 5, 6, 7, 8, 9])"
      ]
     },
     "execution_count": 35,
     "metadata": {},
     "output_type": "execute_result"
    }
   ],
   "source": [
    "\"\"\"default way of sorting\"\"\"\n",
    "A.sort() \n",
    "A"
   ]
  },
  {
   "cell_type": "code",
   "execution_count": 36,
   "id": "1df00a5c",
   "metadata": {},
   "outputs": [
    {
     "data": {
      "text/plain": [
       "array([0, 1, 2, 3, 4, 5, 6, 7, 8, 9])"
      ]
     },
     "execution_count": 36,
     "metadata": {},
     "output_type": "execute_result"
    }
   ],
   "source": [
    "\"\"\"np way of sorting\"\"\"\n",
    "np.sort(A)\n",
    "A"
   ]
  },
  {
   "cell_type": "code",
   "execution_count": 38,
   "id": "7f0a8a17",
   "metadata": {},
   "outputs": [
    {
     "data": {
      "text/plain": [
       "array([6, 3, 4, 2, 7, 0, 5, 9, 1, 8])"
      ]
     },
     "execution_count": 38,
     "metadata": {},
     "output_type": "execute_result"
    }
   ],
   "source": [
    "\"\"\"reversed sort\"\"\"\n",
    "A = A[::-1]\n",
    "A"
   ]
  },
  {
   "cell_type": "markdown",
   "id": "c127a552",
   "metadata": {},
   "source": [
    "# --- np universal functions ---\n",
    "## %timeit (controlls time)"
   ]
  },
  {
   "cell_type": "code",
   "execution_count": null,
   "id": "0f605a04",
   "metadata": {},
   "outputs": [],
   "source": [
    "\"\"\"showing np is faster\"\"\"\n",
    "B = np.random.rand(10000000)\n",
    "%timeit sum(B)\n",
    "%timeit np.sum(B)"
   ]
  },
  {
   "cell_type": "markdown",
   "id": "a38f1439",
   "metadata": {},
   "source": [
    "# @Pandas"
   ]
  },
  {
   "cell_type": "markdown",
   "id": "007e9a63",
   "metadata": {},
   "source": [
    "# --- import ---"
   ]
  },
  {
   "cell_type": "code",
   "execution_count": 1,
   "id": "80221f21",
   "metadata": {},
   "outputs": [],
   "source": [
    "import pandas as pd"
   ]
  },
  {
   "cell_type": "markdown",
   "id": "5cdf8490",
   "metadata": {},
   "source": [
    "# --- creating array ---\n",
    "### ...Passing values & keys\n",
    "## pd.Series()\n",
    "input :\n",
    "#### pd.Series([VALUES], index=[KEYS])\n"
   ]
  },
  {
   "cell_type": "code",
   "execution_count": 40,
   "id": "82849998",
   "metadata": {},
   "outputs": [],
   "source": [
    "data = pd.Series([0.25,0.5,0.75,1.0,2], index=['a','b','c','d','e'])"
   ]
  },
  {
   "cell_type": "code",
   "execution_count": 41,
   "id": "9f388b7a",
   "metadata": {},
   "outputs": [
    {
     "name": "stdout",
     "output_type": "stream",
     "text": [
      "a    0.25\n",
      "b    0.50\n",
      "c    0.75\n",
      "d    1.00\n",
      "e    2.00\n",
      "dtype: float64\n"
     ]
    }
   ],
   "source": [
    "print(data)"
   ]
  },
  {
   "cell_type": "markdown",
   "id": "4e15c0f1",
   "metadata": {},
   "source": [
    "### ... from other dictionary"
   ]
  },
  {
   "cell_type": "code",
   "execution_count": 42,
   "id": "1fb91a47",
   "metadata": {},
   "outputs": [
    {
     "data": {
      "text/plain": [
       "A    4.0\n",
       "B    3.5\n",
       "C    3.0\n",
       "D    2.5\n",
       "E    2.0\n",
       "dtype: float64"
      ]
     },
     "execution_count": 42,
     "metadata": {},
     "output_type": "execute_result"
    }
   ],
   "source": [
    "gradesDictionary = {'A':4, 'B':3.5, 'C':3, 'D':2.5, 'E':2}\n",
    "\n",
    "grades = pd.Series(gradesDictionary)\n",
    "grades"
   ]
  },
  {
   "cell_type": "code",
   "execution_count": 38,
   "id": "78e60c39",
   "metadata": {},
   "outputs": [
    {
     "data": {
      "text/plain": [
       "4.0"
      ]
     },
     "execution_count": 38,
     "metadata": {},
     "output_type": "execute_result"
    }
   ],
   "source": [
    "grades['A']"
   ]
  },
  {
   "cell_type": "markdown",
   "id": "0510bd15",
   "metadata": {},
   "source": [
    "# --- asking values & keys (dictionary) ---\n",
    "## data.values\n",
    "## data.index"
   ]
  },
  {
   "cell_type": "code",
   "execution_count": 6,
   "id": "75037c34",
   "metadata": {},
   "outputs": [
    {
     "data": {
      "text/plain": [
       "array([0.25, 0.5 , 0.75, 1.  ])"
      ]
     },
     "execution_count": 6,
     "metadata": {},
     "output_type": "execute_result"
    }
   ],
   "source": [
    "data.values"
   ]
  },
  {
   "cell_type": "code",
   "execution_count": 7,
   "id": "81bdc918",
   "metadata": {},
   "outputs": [
    {
     "data": {
      "text/plain": [
       "Index(['a', 'b', 'c', 'd'], dtype='object')"
      ]
     },
     "execution_count": 7,
     "metadata": {},
     "output_type": "execute_result"
    }
   ],
   "source": [
    "data.index"
   ]
  },
  {
   "cell_type": "markdown",
   "id": "0ec439b6",
   "metadata": {},
   "source": [
    "### ...asking version of pd "
   ]
  },
  {
   "cell_type": "code",
   "execution_count": 4,
   "id": "8792942e",
   "metadata": {},
   "outputs": [
    {
     "name": "stdout",
     "output_type": "stream",
     "text": [
      "1.4.2\n"
     ]
    }
   ],
   "source": [
    "print(pd.__version__)"
   ]
  },
  {
   "cell_type": "markdown",
   "id": "ee79cf52",
   "metadata": {},
   "source": [
    "### ...everything inside Pandas is Numpy"
   ]
  },
  {
   "cell_type": "code",
   "execution_count": 10,
   "id": "ca8fe1f8",
   "metadata": {},
   "outputs": [
    {
     "data": {
      "text/plain": [
       "pandas.core.series.Series"
      ]
     },
     "execution_count": 10,
     "metadata": {},
     "output_type": "execute_result"
    }
   ],
   "source": [
    "type(data)"
   ]
  },
  {
   "cell_type": "code",
   "execution_count": 12,
   "id": "91d4ba98",
   "metadata": {},
   "outputs": [
    {
     "data": {
      "text/plain": [
       "numpy.ndarray"
      ]
     },
     "execution_count": 12,
     "metadata": {},
     "output_type": "execute_result"
    }
   ],
   "source": [
    "type(data.values)"
   ]
  },
  {
   "cell_type": "markdown",
   "id": "1bbeb6e4",
   "metadata": {},
   "source": [
    "# --- returning ---\n",
    "### ...returning values"
   ]
  },
  {
   "cell_type": "code",
   "execution_count": 13,
   "id": "cf6330c7",
   "metadata": {},
   "outputs": [
    {
     "data": {
      "text/plain": [
       "0.25"
      ]
     },
     "execution_count": 13,
     "metadata": {},
     "output_type": "execute_result"
    }
   ],
   "source": [
    "data['a']"
   ]
  },
  {
   "cell_type": "markdown",
   "id": "9ec77944",
   "metadata": {},
   "source": [
    "# --- slicing ---\n",
    "### ... accessing especific indexis will return last one value too, not like in Numpy"
   ]
  },
  {
   "cell_type": "code",
   "execution_count": 39,
   "id": "5eddeed6",
   "metadata": {},
   "outputs": [
    {
     "data": {
      "text/plain": [
       "a    0.25\n",
       "b    0.50\n",
       "c    0.75\n",
       "dtype: float64"
      ]
     },
     "execution_count": 39,
     "metadata": {},
     "output_type": "execute_result"
    }
   ],
   "source": [
    "\"\"\"Pandas includes the last one cause you specified it, not like Numpy\"\"\"\n",
    "data['a':'c']"
   ]
  },
  {
   "cell_type": "code",
   "execution_count": 26,
   "id": "216bc8a8",
   "metadata": {},
   "outputs": [
    {
     "data": {
      "text/plain": [
       "a    0.25\n",
       "b    0.50\n",
       "dtype: float64"
      ]
     },
     "execution_count": 26,
     "metadata": {},
     "output_type": "execute_result"
    }
   ],
   "source": [
    "data[0:2]"
   ]
  },
  {
   "cell_type": "markdown",
   "id": "d89b740d",
   "metadata": {},
   "source": [
    "# --- data frame ---\n",
    "good looking frame to represent data\n",
    "\n",
    "## pd.DataFrame()"
   ]
  },
  {
   "cell_type": "code",
   "execution_count": 44,
   "id": "e195526b",
   "metadata": {},
   "outputs": [
    {
     "data": {
      "text/plain": [
       "a    0.25\n",
       "b    0.50\n",
       "c    0.75\n",
       "d    1.00\n",
       "e    2.00\n",
       "dtype: float64"
      ]
     },
     "execution_count": 44,
     "metadata": {},
     "output_type": "execute_result"
    }
   ],
   "source": [
    "data"
   ]
  },
  {
   "cell_type": "code",
   "execution_count": 43,
   "id": "dd751af5",
   "metadata": {},
   "outputs": [
    {
     "data": {
      "text/plain": [
       "A    4.0\n",
       "B    3.5\n",
       "C    3.0\n",
       "D    2.5\n",
       "E    2.0\n",
       "dtype: float64"
      ]
     },
     "execution_count": 43,
     "metadata": {},
     "output_type": "execute_result"
    }
   ],
   "source": [
    "grades"
   ]
  },
  {
   "cell_type": "code",
   "execution_count": 49,
   "id": "1b199156",
   "metadata": {},
   "outputs": [
    {
     "data": {
      "text/html": [
       "<div>\n",
       "<style scoped>\n",
       "    .dataframe tbody tr th:only-of-type {\n",
       "        vertical-align: middle;\n",
       "    }\n",
       "\n",
       "    .dataframe tbody tr th {\n",
       "        vertical-align: top;\n",
       "    }\n",
       "\n",
       "    .dataframe thead th {\n",
       "        text-align: right;\n",
       "    }\n",
       "</style>\n",
       "<table border=\"1\" class=\"dataframe\">\n",
       "  <thead>\n",
       "    <tr style=\"text-align: right;\">\n",
       "      <th></th>\n",
       "      <th>Grades</th>\n",
       "      <th>Data</th>\n",
       "    </tr>\n",
       "  </thead>\n",
       "  <tbody>\n",
       "    <tr>\n",
       "      <th>A</th>\n",
       "      <td>4.0</td>\n",
       "      <td>NaN</td>\n",
       "    </tr>\n",
       "    <tr>\n",
       "      <th>B</th>\n",
       "      <td>3.5</td>\n",
       "      <td>NaN</td>\n",
       "    </tr>\n",
       "    <tr>\n",
       "      <th>C</th>\n",
       "      <td>3.0</td>\n",
       "      <td>NaN</td>\n",
       "    </tr>\n",
       "    <tr>\n",
       "      <th>D</th>\n",
       "      <td>2.5</td>\n",
       "      <td>NaN</td>\n",
       "    </tr>\n",
       "    <tr>\n",
       "      <th>E</th>\n",
       "      <td>2.0</td>\n",
       "      <td>NaN</td>\n",
       "    </tr>\n",
       "    <tr>\n",
       "      <th>a</th>\n",
       "      <td>NaN</td>\n",
       "      <td>0.25</td>\n",
       "    </tr>\n",
       "    <tr>\n",
       "      <th>b</th>\n",
       "      <td>NaN</td>\n",
       "      <td>0.50</td>\n",
       "    </tr>\n",
       "    <tr>\n",
       "      <th>c</th>\n",
       "      <td>NaN</td>\n",
       "      <td>0.75</td>\n",
       "    </tr>\n",
       "    <tr>\n",
       "      <th>d</th>\n",
       "      <td>NaN</td>\n",
       "      <td>1.00</td>\n",
       "    </tr>\n",
       "    <tr>\n",
       "      <th>e</th>\n",
       "      <td>NaN</td>\n",
       "      <td>2.00</td>\n",
       "    </tr>\n",
       "  </tbody>\n",
       "</table>\n",
       "</div>"
      ],
      "text/plain": [
       "   Grades  Data\n",
       "A     4.0   NaN\n",
       "B     3.5   NaN\n",
       "C     3.0   NaN\n",
       "D     2.5   NaN\n",
       "E     2.0   NaN\n",
       "a     NaN  0.25\n",
       "b     NaN  0.50\n",
       "c     NaN  0.75\n",
       "d     NaN  1.00\n",
       "e     NaN  2.00"
      ]
     },
     "execution_count": 49,
     "metadata": {},
     "output_type": "execute_result"
    }
   ],
   "source": [
    "\"\"\"updating D and mixing Grades w Data\"\"\"\n",
    "D = pd.DataFrame({'Grades':grades,'Data':data})\n",
    "D"
   ]
  },
  {
   "cell_type": "markdown",
   "id": "a0cd38ee",
   "metadata": {},
   "source": [
    "### ... transpose"
   ]
  },
  {
   "cell_type": "code",
   "execution_count": 46,
   "id": "58ca6ce3",
   "metadata": {},
   "outputs": [
    {
     "data": {
      "text/html": [
       "<div>\n",
       "<style scoped>\n",
       "    .dataframe tbody tr th:only-of-type {\n",
       "        vertical-align: middle;\n",
       "    }\n",
       "\n",
       "    .dataframe tbody tr th {\n",
       "        vertical-align: top;\n",
       "    }\n",
       "\n",
       "    .dataframe thead th {\n",
       "        text-align: right;\n",
       "    }\n",
       "</style>\n",
       "<table border=\"1\" class=\"dataframe\">\n",
       "  <thead>\n",
       "    <tr style=\"text-align: right;\">\n",
       "      <th></th>\n",
       "      <th>A</th>\n",
       "      <th>B</th>\n",
       "      <th>C</th>\n",
       "      <th>D</th>\n",
       "      <th>E</th>\n",
       "      <th>a</th>\n",
       "      <th>b</th>\n",
       "      <th>c</th>\n",
       "      <th>d</th>\n",
       "      <th>e</th>\n",
       "    </tr>\n",
       "  </thead>\n",
       "  <tbody>\n",
       "    <tr>\n",
       "      <th>Grades</th>\n",
       "      <td>4.0</td>\n",
       "      <td>3.5</td>\n",
       "      <td>3.0</td>\n",
       "      <td>2.5</td>\n",
       "      <td>2.0</td>\n",
       "      <td>NaN</td>\n",
       "      <td>NaN</td>\n",
       "      <td>NaN</td>\n",
       "      <td>NaN</td>\n",
       "      <td>NaN</td>\n",
       "    </tr>\n",
       "    <tr>\n",
       "      <th>Data</th>\n",
       "      <td>NaN</td>\n",
       "      <td>NaN</td>\n",
       "      <td>NaN</td>\n",
       "      <td>NaN</td>\n",
       "      <td>NaN</td>\n",
       "      <td>0.25</td>\n",
       "      <td>0.5</td>\n",
       "      <td>0.75</td>\n",
       "      <td>1.0</td>\n",
       "      <td>2.0</td>\n",
       "    </tr>\n",
       "  </tbody>\n",
       "</table>\n",
       "</div>"
      ],
      "text/plain": [
       "          A    B    C    D    E     a    b     c    d    e\n",
       "Grades  4.0  3.5  3.0  2.5  2.0   NaN  NaN   NaN  NaN  NaN\n",
       "Data    NaN  NaN  NaN  NaN  NaN  0.25  0.5  0.75  1.0  2.0"
      ]
     },
     "execution_count": 46,
     "metadata": {},
     "output_type": "execute_result"
    }
   ],
   "source": [
    "D.T"
   ]
  },
  {
   "cell_type": "code",
   "execution_count": 32,
   "id": "d6ba7a46",
   "metadata": {},
   "outputs": [
    {
     "data": {
      "text/plain": [
       "2.0"
      ]
     },
     "execution_count": 32,
     "metadata": {},
     "output_type": "execute_result"
    }
   ],
   "source": [
    "\"\"\"accessing 2.0\"\"\"\n",
    "D.values[2,0]"
   ]
  },
  {
   "cell_type": "code",
   "execution_count": 33,
   "id": "f3a37b8a",
   "metadata": {},
   "outputs": [
    {
     "data": {
      "text/plain": [
       "Index(['Grades', 'Data'], dtype='object')"
      ]
     },
     "execution_count": 33,
     "metadata": {},
     "output_type": "execute_result"
    }
   ],
   "source": [
    "\"\"\"accessing colum names\"\"\"\n",
    "D.columns"
   ]
  },
  {
   "cell_type": "code",
   "execution_count": 34,
   "id": "46f211e9",
   "metadata": {},
   "outputs": [
    {
     "data": {
      "text/html": [
       "<div>\n",
       "<style scoped>\n",
       "    .dataframe tbody tr th:only-of-type {\n",
       "        vertical-align: middle;\n",
       "    }\n",
       "\n",
       "    .dataframe tbody tr th {\n",
       "        vertical-align: top;\n",
       "    }\n",
       "\n",
       "    .dataframe thead th {\n",
       "        text-align: right;\n",
       "    }\n",
       "</style>\n",
       "<table border=\"1\" class=\"dataframe\">\n",
       "  <thead>\n",
       "    <tr style=\"text-align: right;\">\n",
       "      <th></th>\n",
       "      <th>Grades</th>\n",
       "      <th>Data</th>\n",
       "    </tr>\n",
       "  </thead>\n",
       "  <tbody>\n",
       "    <tr>\n",
       "      <th>A</th>\n",
       "      <td>4.0</td>\n",
       "      <td>NaN</td>\n",
       "    </tr>\n",
       "    <tr>\n",
       "      <th>A-</th>\n",
       "      <td>3.5</td>\n",
       "      <td>NaN</td>\n",
       "    </tr>\n",
       "    <tr>\n",
       "      <th>B</th>\n",
       "      <td>2.0</td>\n",
       "      <td>NaN</td>\n",
       "    </tr>\n",
       "    <tr>\n",
       "      <th>B-</th>\n",
       "      <td>2.5</td>\n",
       "      <td>NaN</td>\n",
       "    </tr>\n",
       "    <tr>\n",
       "      <th>a</th>\n",
       "      <td>NaN</td>\n",
       "      <td>0.25</td>\n",
       "    </tr>\n",
       "    <tr>\n",
       "      <th>b</th>\n",
       "      <td>NaN</td>\n",
       "      <td>0.50</td>\n",
       "    </tr>\n",
       "    <tr>\n",
       "      <th>c</th>\n",
       "      <td>NaN</td>\n",
       "      <td>0.75</td>\n",
       "    </tr>\n",
       "    <tr>\n",
       "      <th>d</th>\n",
       "      <td>NaN</td>\n",
       "      <td>1.00</td>\n",
       "    </tr>\n",
       "  </tbody>\n",
       "</table>\n",
       "</div>"
      ],
      "text/plain": [
       "    Grades  Data\n",
       "A      4.0   NaN\n",
       "A-     3.5   NaN\n",
       "B      2.0   NaN\n",
       "B-     2.5   NaN\n",
       "a      NaN  0.25\n",
       "b      NaN  0.50\n",
       "c      NaN  0.75\n",
       "d      NaN  1.00"
      ]
     },
     "execution_count": 34,
     "metadata": {},
     "output_type": "execute_result"
    }
   ],
   "source": [
    "D"
   ]
  },
  {
   "cell_type": "markdown",
   "id": "31e83460",
   "metadata": {},
   "source": [
    "# --- adding columns ---"
   ]
  },
  {
   "cell_type": "markdown",
   "id": "468fa1bb",
   "metadata": {},
   "source": [
    "### ... from other columns"
   ]
  },
  {
   "cell_type": "code",
   "execution_count": 52,
   "id": "c1deb451",
   "metadata": {},
   "outputs": [
    {
     "data": {
      "text/html": [
       "<div>\n",
       "<style scoped>\n",
       "    .dataframe tbody tr th:only-of-type {\n",
       "        vertical-align: middle;\n",
       "    }\n",
       "\n",
       "    .dataframe tbody tr th {\n",
       "        vertical-align: top;\n",
       "    }\n",
       "\n",
       "    .dataframe thead th {\n",
       "        text-align: right;\n",
       "    }\n",
       "</style>\n",
       "<table border=\"1\" class=\"dataframe\">\n",
       "  <thead>\n",
       "    <tr style=\"text-align: right;\">\n",
       "      <th></th>\n",
       "      <th>Grades</th>\n",
       "      <th>Data</th>\n",
       "      <th>ScaledGrades</th>\n",
       "    </tr>\n",
       "  </thead>\n",
       "  <tbody>\n",
       "    <tr>\n",
       "      <th>A</th>\n",
       "      <td>4.0</td>\n",
       "      <td>NaN</td>\n",
       "      <td>3.60</td>\n",
       "    </tr>\n",
       "    <tr>\n",
       "      <th>B</th>\n",
       "      <td>3.5</td>\n",
       "      <td>NaN</td>\n",
       "      <td>3.15</td>\n",
       "    </tr>\n",
       "    <tr>\n",
       "      <th>C</th>\n",
       "      <td>3.0</td>\n",
       "      <td>NaN</td>\n",
       "      <td>2.70</td>\n",
       "    </tr>\n",
       "    <tr>\n",
       "      <th>D</th>\n",
       "      <td>2.5</td>\n",
       "      <td>NaN</td>\n",
       "      <td>2.25</td>\n",
       "    </tr>\n",
       "    <tr>\n",
       "      <th>E</th>\n",
       "      <td>2.0</td>\n",
       "      <td>NaN</td>\n",
       "      <td>1.80</td>\n",
       "    </tr>\n",
       "    <tr>\n",
       "      <th>a</th>\n",
       "      <td>NaN</td>\n",
       "      <td>0.25</td>\n",
       "      <td>NaN</td>\n",
       "    </tr>\n",
       "    <tr>\n",
       "      <th>b</th>\n",
       "      <td>NaN</td>\n",
       "      <td>0.50</td>\n",
       "      <td>NaN</td>\n",
       "    </tr>\n",
       "    <tr>\n",
       "      <th>c</th>\n",
       "      <td>NaN</td>\n",
       "      <td>0.75</td>\n",
       "      <td>NaN</td>\n",
       "    </tr>\n",
       "    <tr>\n",
       "      <th>d</th>\n",
       "      <td>NaN</td>\n",
       "      <td>1.00</td>\n",
       "      <td>NaN</td>\n",
       "    </tr>\n",
       "    <tr>\n",
       "      <th>e</th>\n",
       "      <td>NaN</td>\n",
       "      <td>2.00</td>\n",
       "      <td>NaN</td>\n",
       "    </tr>\n",
       "  </tbody>\n",
       "</table>\n",
       "</div>"
      ],
      "text/plain": [
       "   Grades  Data  ScaledGrades\n",
       "A     4.0   NaN          3.60\n",
       "B     3.5   NaN          3.15\n",
       "C     3.0   NaN          2.70\n",
       "D     2.5   NaN          2.25\n",
       "E     2.0   NaN          1.80\n",
       "a     NaN  0.25           NaN\n",
       "b     NaN  0.50           NaN\n",
       "c     NaN  0.75           NaN\n",
       "d     NaN  1.00           NaN\n",
       "e     NaN  2.00           NaN"
      ]
     },
     "execution_count": 52,
     "metadata": {},
     "output_type": "execute_result"
    }
   ],
   "source": [
    "\"\"\"creating new columns with other + formula\"\"\"\n",
    "D['ScaledGrades'] =90*(D['Grades']/100)\n",
    "D"
   ]
  },
  {
   "cell_type": "markdown",
   "id": "58110722",
   "metadata": {},
   "source": [
    "### ... new ones"
   ]
  },
  {
   "cell_type": "code",
   "execution_count": 72,
   "id": "b8cd4a0a",
   "metadata": {},
   "outputs": [
    {
     "data": {
      "text/html": [
       "<div>\n",
       "<style scoped>\n",
       "    .dataframe tbody tr th:only-of-type {\n",
       "        vertical-align: middle;\n",
       "    }\n",
       "\n",
       "    .dataframe tbody tr th {\n",
       "        vertical-align: top;\n",
       "    }\n",
       "\n",
       "    .dataframe thead th {\n",
       "        text-align: right;\n",
       "    }\n",
       "</style>\n",
       "<table border=\"1\" class=\"dataframe\">\n",
       "  <thead>\n",
       "    <tr style=\"text-align: right;\">\n",
       "      <th></th>\n",
       "      <th>Grades</th>\n",
       "      <th>Data</th>\n",
       "      <th>ScaledGrades</th>\n",
       "      <th>phrase</th>\n",
       "    </tr>\n",
       "  </thead>\n",
       "  <tbody>\n",
       "    <tr>\n",
       "      <th>A</th>\n",
       "      <td>4.0</td>\n",
       "      <td>NaN</td>\n",
       "      <td>3.60</td>\n",
       "      <td>this</td>\n",
       "    </tr>\n",
       "    <tr>\n",
       "      <th>B</th>\n",
       "      <td>3.5</td>\n",
       "      <td>NaN</td>\n",
       "      <td>3.15</td>\n",
       "      <td>is</td>\n",
       "    </tr>\n",
       "    <tr>\n",
       "      <th>C</th>\n",
       "      <td>3.0</td>\n",
       "      <td>NaN</td>\n",
       "      <td>2.70</td>\n",
       "      <td>for</td>\n",
       "    </tr>\n",
       "    <tr>\n",
       "      <th>D</th>\n",
       "      <td>2.5</td>\n",
       "      <td>NaN</td>\n",
       "      <td>2.25</td>\n",
       "      <td>fun</td>\n",
       "    </tr>\n",
       "    <tr>\n",
       "      <th>E</th>\n",
       "      <td>2.0</td>\n",
       "      <td>NaN</td>\n",
       "      <td>1.80</td>\n",
       "      <td>NaN</td>\n",
       "    </tr>\n",
       "    <tr>\n",
       "      <th>a</th>\n",
       "      <td>NaN</td>\n",
       "      <td>0.25</td>\n",
       "      <td>NaN</td>\n",
       "      <td>NaN</td>\n",
       "    </tr>\n",
       "    <tr>\n",
       "      <th>b</th>\n",
       "      <td>NaN</td>\n",
       "      <td>0.50</td>\n",
       "      <td>NaN</td>\n",
       "      <td>NaN</td>\n",
       "    </tr>\n",
       "    <tr>\n",
       "      <th>c</th>\n",
       "      <td>NaN</td>\n",
       "      <td>0.75</td>\n",
       "      <td>NaN</td>\n",
       "      <td>NaN</td>\n",
       "    </tr>\n",
       "    <tr>\n",
       "      <th>d</th>\n",
       "      <td>NaN</td>\n",
       "      <td>1.00</td>\n",
       "      <td>NaN</td>\n",
       "      <td>NaN</td>\n",
       "    </tr>\n",
       "    <tr>\n",
       "      <th>e</th>\n",
       "      <td>NaN</td>\n",
       "      <td>2.00</td>\n",
       "      <td>NaN</td>\n",
       "      <td>NaN</td>\n",
       "    </tr>\n",
       "  </tbody>\n",
       "</table>\n",
       "</div>"
      ],
      "text/plain": [
       "   Grades  Data  ScaledGrades phrase\n",
       "A     4.0   NaN          3.60   this\n",
       "B     3.5   NaN          3.15     is\n",
       "C     3.0   NaN          2.70    for\n",
       "D     2.5   NaN          2.25    fun\n",
       "E     2.0   NaN          1.80    NaN\n",
       "a     NaN  0.25           NaN    NaN\n",
       "b     NaN  0.50           NaN    NaN\n",
       "c     NaN  0.75           NaN    NaN\n",
       "d     NaN  1.00           NaN    NaN\n",
       "e     NaN  2.00           NaN    NaN"
      ]
     },
     "execution_count": 72,
     "metadata": {},
     "output_type": "execute_result"
    }
   ],
   "source": [
    "\"\"\"creating dictionary\"\"\"\n",
    "forFun = {'A':'this','B':'is','C':'for','D':'fun'}\n",
    "\"\"\"making dictionary a Pandas Serie, and making data frame\"\"\"\n",
    "fun = pd.DataFrame(pd.Series(forFun))\n",
    "\"\"\"adding to D\"\"\"\n",
    "D['phrase'] = fun\n",
    "D"
   ]
  },
  {
   "cell_type": "markdown",
   "id": "1d1b1007",
   "metadata": {},
   "source": [
    "### ... creating new table from a codition"
   ]
  },
  {
   "cell_type": "code",
   "execution_count": 75,
   "id": "fb980254",
   "metadata": {},
   "outputs": [
    {
     "data": {
      "text/html": [
       "<div>\n",
       "<style scoped>\n",
       "    .dataframe tbody tr th:only-of-type {\n",
       "        vertical-align: middle;\n",
       "    }\n",
       "\n",
       "    .dataframe tbody tr th {\n",
       "        vertical-align: top;\n",
       "    }\n",
       "\n",
       "    .dataframe thead th {\n",
       "        text-align: right;\n",
       "    }\n",
       "</style>\n",
       "<table border=\"1\" class=\"dataframe\">\n",
       "  <thead>\n",
       "    <tr style=\"text-align: right;\">\n",
       "      <th></th>\n",
       "      <th>Grades</th>\n",
       "      <th>Data</th>\n",
       "      <th>ScaledGrades</th>\n",
       "      <th>phrase</th>\n",
       "    </tr>\n",
       "  </thead>\n",
       "  <tbody>\n",
       "    <tr>\n",
       "      <th>A</th>\n",
       "      <td>4.0</td>\n",
       "      <td>NaN</td>\n",
       "      <td>3.60</td>\n",
       "      <td>this</td>\n",
       "    </tr>\n",
       "    <tr>\n",
       "      <th>B</th>\n",
       "      <td>3.5</td>\n",
       "      <td>NaN</td>\n",
       "      <td>3.15</td>\n",
       "      <td>is</td>\n",
       "    </tr>\n",
       "  </tbody>\n",
       "</table>\n",
       "</div>"
      ],
      "text/plain": [
       "   Grades  Data  ScaledGrades phrase\n",
       "A     4.0   NaN          3.60   this\n",
       "B     3.5   NaN          3.15     is"
      ]
     },
     "execution_count": 75,
     "metadata": {},
     "output_type": "execute_result"
    }
   ],
   "source": [
    "\"\"\"creating new tables from a condition\"\"\"\n",
    "G = D[D['Grades'] > 3]\n",
    "G"
   ]
  },
  {
   "cell_type": "markdown",
   "id": "1b9e3854",
   "metadata": {},
   "source": [
    "# --- delete columns ---"
   ]
  },
  {
   "cell_type": "code",
   "execution_count": 48,
   "id": "0e319533",
   "metadata": {},
   "outputs": [
    {
     "data": {
      "text/html": [
       "<div>\n",
       "<style scoped>\n",
       "    .dataframe tbody tr th:only-of-type {\n",
       "        vertical-align: middle;\n",
       "    }\n",
       "\n",
       "    .dataframe tbody tr th {\n",
       "        vertical-align: top;\n",
       "    }\n",
       "\n",
       "    .dataframe thead th {\n",
       "        text-align: right;\n",
       "    }\n",
       "</style>\n",
       "<table border=\"1\" class=\"dataframe\">\n",
       "  <thead>\n",
       "    <tr style=\"text-align: right;\">\n",
       "      <th></th>\n",
       "      <th>Grades</th>\n",
       "      <th>Data</th>\n",
       "    </tr>\n",
       "  </thead>\n",
       "  <tbody>\n",
       "    <tr>\n",
       "      <th>A</th>\n",
       "      <td>4.0</td>\n",
       "      <td>NaN</td>\n",
       "    </tr>\n",
       "    <tr>\n",
       "      <th>B</th>\n",
       "      <td>3.5</td>\n",
       "      <td>NaN</td>\n",
       "    </tr>\n",
       "    <tr>\n",
       "      <th>C</th>\n",
       "      <td>3.0</td>\n",
       "      <td>NaN</td>\n",
       "    </tr>\n",
       "    <tr>\n",
       "      <th>D</th>\n",
       "      <td>2.5</td>\n",
       "      <td>NaN</td>\n",
       "    </tr>\n",
       "    <tr>\n",
       "      <th>E</th>\n",
       "      <td>2.0</td>\n",
       "      <td>NaN</td>\n",
       "    </tr>\n",
       "    <tr>\n",
       "      <th>a</th>\n",
       "      <td>NaN</td>\n",
       "      <td>0.25</td>\n",
       "    </tr>\n",
       "    <tr>\n",
       "      <th>b</th>\n",
       "      <td>NaN</td>\n",
       "      <td>0.50</td>\n",
       "    </tr>\n",
       "    <tr>\n",
       "      <th>c</th>\n",
       "      <td>NaN</td>\n",
       "      <td>0.75</td>\n",
       "    </tr>\n",
       "    <tr>\n",
       "      <th>d</th>\n",
       "      <td>NaN</td>\n",
       "      <td>1.00</td>\n",
       "    </tr>\n",
       "    <tr>\n",
       "      <th>e</th>\n",
       "      <td>NaN</td>\n",
       "      <td>2.00</td>\n",
       "    </tr>\n",
       "  </tbody>\n",
       "</table>\n",
       "</div>"
      ],
      "text/plain": [
       "   Grades  Data\n",
       "A     4.0   NaN\n",
       "B     3.5   NaN\n",
       "C     3.0   NaN\n",
       "D     2.5   NaN\n",
       "E     2.0   NaN\n",
       "a     NaN  0.25\n",
       "b     NaN  0.50\n",
       "c     NaN  0.75\n",
       "d     NaN  1.00\n",
       "e     NaN  2.00"
      ]
     },
     "execution_count": 48,
     "metadata": {},
     "output_type": "execute_result"
    }
   ],
   "source": [
    "del D['ScaledGrades']\n",
    "D"
   ]
  },
  {
   "cell_type": "code",
   "execution_count": null,
   "id": "52c25621",
   "metadata": {},
   "outputs": [],
   "source": []
  }
 ],
 "metadata": {
  "kernelspec": {
   "display_name": "Python 3 (ipykernel)",
   "language": "python",
   "name": "python3"
  },
  "language_info": {
   "codemirror_mode": {
    "name": "ipython",
    "version": 3
   },
   "file_extension": ".py",
   "mimetype": "text/x-python",
   "name": "python",
   "nbconvert_exporter": "python",
   "pygments_lexer": "ipython3",
   "version": "3.9.12"
  }
 },
 "nbformat": 4,
 "nbformat_minor": 5
}
