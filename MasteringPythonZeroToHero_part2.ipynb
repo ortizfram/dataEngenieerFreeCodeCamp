{
 "cells": [
  {
   "cell_type": "markdown",
   "id": "bb247446",
   "metadata": {},
   "source": [
    "# @Data Structures"
   ]
  },
  {
   "cell_type": "code",
   "execution_count": 30,
   "id": "28053afb",
   "metadata": {},
   "outputs": [],
   "source": [
    "L = [1,3,4.9,\"name\",3]\n",
    "T = (1,3,4.9,\"name\",3)\n",
    "S = {1,3,4.9,\"name\",3} #cant contain duplicates\n",
    "D = {23:\"twothree\",'B':43,'C':'CCD'}"
   ]
  },
  {
   "cell_type": "code",
   "execution_count": 7,
   "id": "5f80e3a3",
   "metadata": {},
   "outputs": [
    {
     "name": "stdout",
     "output_type": "stream",
     "text": [
      "Type of L <class 'list'>\n",
      "Type of T <class 'tuple'>\n",
      "Type of S <class 'set'>\n",
      "Type of D <class 'dict'>\n"
     ]
    }
   ],
   "source": [
    "print(\"Type of L\", type(L))\n",
    "print(\"Type of T\", type(T))\n",
    "print(\"Type of S\", type(S))\n",
    "print(\"Type of D\", type(D))"
   ]
  },
  {
   "cell_type": "markdown",
   "id": "ca43d65d",
   "metadata": {},
   "source": [
    "## --- accessing  ---\n",
    "#### accessing element in list"
   ]
  },
  {
   "cell_type": "code",
   "execution_count": 8,
   "id": "2c7aea5d",
   "metadata": {},
   "outputs": [
    {
     "name": "stdout",
     "output_type": "stream",
     "text": [
      "3\n",
      "3\n",
      "True\n",
      "twothree\n"
     ]
    }
   ],
   "source": [
    "print(L[1])\n",
    "print(T[1])\n",
    "print(3 in S) #bool\n",
    "print(D[23])"
   ]
  },
  {
   "cell_type": "code",
   "execution_count": 5,
   "id": "5c1dba50",
   "metadata": {},
   "outputs": [
    {
     "data": {
      "text/plain": [
       "{1, 3, 4.9, 'name'}"
      ]
     },
     "execution_count": 5,
     "metadata": {},
     "output_type": "execute_result"
    }
   ],
   "source": [
    "S"
   ]
  },
  {
   "cell_type": "code",
   "execution_count": 9,
   "id": "413361a3",
   "metadata": {},
   "outputs": [
    {
     "data": {
      "text/plain": [
       "[1, 3, 4.9, 'name', 3]"
      ]
     },
     "execution_count": 9,
     "metadata": {},
     "output_type": "execute_result"
    }
   ],
   "source": [
    "L"
   ]
  },
  {
   "cell_type": "code",
   "execution_count": 10,
   "id": "61247dfb",
   "metadata": {},
   "outputs": [
    {
     "data": {
      "text/plain": [
       "[3, 4.9]"
      ]
     },
     "execution_count": 10,
     "metadata": {},
     "output_type": "execute_result"
    }
   ],
   "source": [
    "L[1:3]"
   ]
  },
  {
   "cell_type": "code",
   "execution_count": 11,
   "id": "4b7bfbb1",
   "metadata": {},
   "outputs": [
    {
     "data": {
      "text/plain": [
       "[3, 'name', 4.9, 3, 1]"
      ]
     },
     "execution_count": 11,
     "metadata": {},
     "output_type": "execute_result"
    }
   ],
   "source": [
    "L[::-1]"
   ]
  },
  {
   "cell_type": "code",
   "execution_count": 12,
   "id": "aea5f567",
   "metadata": {},
   "outputs": [
    {
     "data": {
      "text/plain": [
       "(1, 3, 4.9)"
      ]
     },
     "execution_count": 12,
     "metadata": {},
     "output_type": "execute_result"
    }
   ],
   "source": [
    "T[:3]"
   ]
  },
  {
   "cell_type": "markdown",
   "id": "337d99d4",
   "metadata": {},
   "source": [
    "## ---- inserting ---\n",
    "### - list\n",
    "(mutable)\n",
    "##### \"\"\" L + [ ]   OR        L.append( ) \"\"\""
   ]
  },
  {
   "cell_type": "code",
   "execution_count": 21,
   "id": "b7c8d89f",
   "metadata": {},
   "outputs": [
    {
     "data": {
      "text/plain": [
       "[1, 3, 4.9, 'name', 3]"
      ]
     },
     "execution_count": 21,
     "metadata": {},
     "output_type": "execute_result"
    }
   ],
   "source": [
    "L"
   ]
  },
  {
   "cell_type": "code",
   "execution_count": 28,
   "id": "f900ac38",
   "metadata": {},
   "outputs": [],
   "source": [
    "L = L + ['how', 'are', 6, 'you']\n",
    "\n",
    "\"\"\"OR\"\"\"\n",
    "\n",
    "L.append(6.8)"
   ]
  },
  {
   "cell_type": "code",
   "execution_count": 27,
   "id": "cc5bede6",
   "metadata": {},
   "outputs": [
    {
     "name": "stdout",
     "output_type": "stream",
     "text": [
      "[1, 3, 4.9, 'name', 3, 'how', 'are', 6, 'you', 'how', 'are', 6, 'you', 6.8, 'how', 'are', 6, 'you', 6.8]\n"
     ]
    }
   ],
   "source": [
    "print(L)"
   ]
  },
  {
   "cell_type": "markdown",
   "id": "2d9c50c0",
   "metadata": {},
   "source": [
    "### - tuple    \n",
    "(inmutable can't insert )\n",
    "##### \"\"\" T1  +  T2  \"\"\""
   ]
  },
  {
   "cell_type": "code",
   "execution_count": 32,
   "id": "3e3cf989",
   "metadata": {},
   "outputs": [
    {
     "name": "stdout",
     "output_type": "stream",
     "text": [
      "(1, 3, 4.9, 'name', 3, 'a', 'b', 45)\n"
     ]
    }
   ],
   "source": [
    "T = (1,3,4.9,\"name\",3)\n",
    "T2 = ('a', 'b', 45)\n",
    "T3 = T + T2\n",
    "print(T3)"
   ]
  },
  {
   "cell_type": "markdown",
   "id": "d4ba7aeb",
   "metadata": {},
   "source": [
    "### - set\n",
    "##### \"\"\"  S.add( )    OR    S.update({ 23,\"game\"} )    \"\"\"\n",
    "(cant contain duplicates)"
   ]
  },
  {
   "cell_type": "code",
   "execution_count": 34,
   "id": "887318ef",
   "metadata": {},
   "outputs": [
    {
     "data": {
      "text/plain": [
       "{1, 3, 4.9, 56, 'name'}"
      ]
     },
     "execution_count": 34,
     "metadata": {},
     "output_type": "execute_result"
    }
   ],
   "source": [
    "S = {1,3,4.9,\"name\",3} \n",
    "S.add(56)\n",
    "S"
   ]
  },
  {
   "cell_type": "code",
   "execution_count": 37,
   "id": "47c6e3a2",
   "metadata": {},
   "outputs": [
    {
     "data": {
      "text/plain": [
       "{1, 23, 3, 4.9, 56, 'fra', 'game', 'name'}"
      ]
     },
     "execution_count": 37,
     "metadata": {},
     "output_type": "execute_result"
    }
   ],
   "source": [
    "S.update({23, \"fra\", \"game\"})\n",
    "S"
   ]
  },
  {
   "cell_type": "markdown",
   "id": "0087ac94",
   "metadata": {},
   "source": [
    "### - dictionary\n",
    "(mutable), can't concatenate\n",
    "##### \"\"\"  D['newKey'] = \"newValue\"\n",
    "##### \"\"\" D.update(D2)  \"\"\""
   ]
  },
  {
   "cell_type": "code",
   "execution_count": 46,
   "id": "5dbd98ef",
   "metadata": {},
   "outputs": [],
   "source": [
    "D = {23:\"twothree\",'B':43,'C':'CCD'}"
   ]
  },
  {
   "cell_type": "code",
   "execution_count": 47,
   "id": "b8ea00da",
   "metadata": {},
   "outputs": [
    {
     "name": "stdout",
     "output_type": "stream",
     "text": [
      "{23: 'twothree', 'B': 43, 'C': 'CCD', 'newKey': 'newValue'}\n"
     ]
    }
   ],
   "source": [
    "D['newKey'] = 'newValue'\n",
    "print(D)"
   ]
  },
  {
   "cell_type": "code",
   "execution_count": 56,
   "id": "9a3b58f7",
   "metadata": {},
   "outputs": [
    {
     "data": {
      "text/plain": [
       "{23: 'twothree', 'B': 43, 'newKey': 'newValue', 'y': 'yy', 'z': 10}"
      ]
     },
     "execution_count": 56,
     "metadata": {},
     "output_type": "execute_result"
    }
   ],
   "source": [
    "D2 = {\"y\":\"yy\",\"z\":10}\n",
    "D.update(D2)\n",
    "D"
   ]
  },
  {
   "cell_type": "markdown",
   "id": "42a26ebe",
   "metadata": {},
   "source": [
    "## --- del / remove /clear ---"
   ]
  },
  {
   "cell_type": "markdown",
   "id": "dbe038bd",
   "metadata": {},
   "source": [
    "### - list  delete"
   ]
  },
  {
   "cell_type": "code",
   "execution_count": 53,
   "id": "a2ee4ec8",
   "metadata": {},
   "outputs": [
    {
     "name": "stdout",
     "output_type": "stream",
     "text": [
      "[1, 3, 4.9]\n",
      "[1, 3]\n"
     ]
    }
   ],
   "source": [
    "print(L)\n",
    "del L[2]\n",
    "print(L)"
   ]
  },
  {
   "cell_type": "markdown",
   "id": "a436f6eb",
   "metadata": {},
   "source": [
    "### - set remove()"
   ]
  },
  {
   "cell_type": "code",
   "execution_count": 54,
   "id": "40452e87",
   "metadata": {
    "scrolled": true
   },
   "outputs": [
    {
     "name": "stdout",
     "output_type": "stream",
     "text": [
      "{1, 3, 4.9, 'game', 'name', 'fra', 23, 56}\n",
      "{1, 3, 4.9, 'name', 'fra', 23, 56}\n"
     ]
    }
   ],
   "source": [
    "print(S)\n",
    "S.remove('game')\n",
    "print(S)\n"
   ]
  },
  {
   "cell_type": "markdown",
   "id": "25372356",
   "metadata": {},
   "source": [
    "### - dictionary delete"
   ]
  },
  {
   "cell_type": "code",
   "execution_count": 55,
   "id": "8c64dca9",
   "metadata": {},
   "outputs": [
    {
     "name": "stdout",
     "output_type": "stream",
     "text": [
      "{23: 'twothree', 'B': 43, 'C': 'CCD', 'newKey': 'newValue'}\n",
      "{23: 'twothree', 'B': 43, 'newKey': 'newValue'}\n"
     ]
    }
   ],
   "source": [
    "print(D)\n",
    "del D['C']\n",
    "print(D)"
   ]
  },
  {
   "cell_type": "markdown",
   "id": "4d9c7274",
   "metadata": {},
   "source": [
    "## --- copy ---"
   ]
  },
  {
   "cell_type": "markdown",
   "id": "8c47fe20",
   "metadata": {},
   "source": [
    "### - list"
   ]
  },
  {
   "cell_type": "code",
   "execution_count": 57,
   "id": "5e38ddad",
   "metadata": {},
   "outputs": [
    {
     "data": {
      "text/plain": [
       "[1, 3]"
      ]
     },
     "execution_count": 57,
     "metadata": {},
     "output_type": "execute_result"
    }
   ],
   "source": [
    "L2 = L\n",
    "L2"
   ]
  },
  {
   "cell_type": "code",
   "execution_count": 61,
   "id": "21d91024",
   "metadata": {},
   "outputs": [
    {
     "data": {
      "text/plain": [
       "[1, 'three']"
      ]
     },
     "execution_count": 61,
     "metadata": {},
     "output_type": "execute_result"
    }
   ],
   "source": [
    "L2[1] = \"three\"\n",
    "L2"
   ]
  },
  {
   "cell_type": "code",
   "execution_count": 63,
   "id": "99005495",
   "metadata": {},
   "outputs": [
    {
     "data": {
      "text/plain": [
       "[1, 4.9]"
      ]
     },
     "execution_count": 63,
     "metadata": {},
     "output_type": "execute_result"
    }
   ],
   "source": [
    "L2 = L.copy()\n",
    "L2[1] = 4.9\n",
    "L2"
   ]
  },
  {
   "cell_type": "code",
   "execution_count": 64,
   "id": "ee26856c",
   "metadata": {},
   "outputs": [
    {
     "data": {
      "text/plain": [
       "[1, 'three']"
      ]
     },
     "execution_count": 64,
     "metadata": {},
     "output_type": "execute_result"
    }
   ],
   "source": [
    "L"
   ]
  },
  {
   "cell_type": "code",
   "execution_count": 68,
   "id": "321c74e6",
   "metadata": {},
   "outputs": [
    {
     "data": {
      "text/plain": [
       "[1, 3, 4.9, 'name']"
      ]
     },
     "execution_count": 68,
     "metadata": {},
     "output_type": "execute_result"
    }
   ],
   "source": [
    "\"\"\"this is a new list when you slice\"\"\"\n",
    "L = [1,3,4.9,\"name\",3]\n",
    "L3 = L[0:4]\n",
    "L3"
   ]
  },
  {
   "cell_type": "code",
   "execution_count": 69,
   "id": "a4e84fa5",
   "metadata": {},
   "outputs": [
    {
     "data": {
      "text/plain": [
       "[1, 3, 4.9, 'name', 3]"
      ]
     },
     "execution_count": 69,
     "metadata": {},
     "output_type": "execute_result"
    }
   ],
   "source": [
    "L"
   ]
  },
  {
   "cell_type": "markdown",
   "id": "02598cc0",
   "metadata": {},
   "source": [
    "### - tuple \n",
    "you can't make a copy, it's inmutable"
   ]
  },
  {
   "cell_type": "markdown",
   "id": "8cff38b5",
   "metadata": {},
   "source": [
    "# --- ### exercises ### ---"
   ]
  },
  {
   "cell_type": "code",
   "execution_count": 1,
   "id": "06bb268f",
   "metadata": {},
   "outputs": [],
   "source": [
    "L = [1,3,4.9,\"name\",3]\n",
    "T = (1,3,4.9,\"name\",3)\n",
    "S = {1,3,4.9,\"name\",3} #cant contain duplicates\n",
    "D = {23:\"twothree\",'B':43,'C':'CCD'}"
   ]
  },
  {
   "cell_type": "code",
   "execution_count": 2,
   "id": "40b0fac0",
   "metadata": {},
   "outputs": [],
   "source": []
  },
  {
   "cell_type": "code",
   "execution_count": 20,
   "id": "485148de",
   "metadata": {},
   "outputs": [
    {
     "data": {
      "text/plain": [
       "'name'"
      ]
     },
     "execution_count": 20,
     "metadata": {},
     "output_type": "execute_result"
    }
   ],
   "source": [
    "\"\"\" \\indexing elements\\ abstract list\"\"\"\n",
    "D2 =  {'a':L,'b':T,'c':D}\n",
    "D2['a'][3] "
   ]
  },
  {
   "cell_type": "code",
   "execution_count": 6,
   "id": "9f399f25",
   "metadata": {},
   "outputs": [],
   "source": [
    "K = D2['c']"
   ]
  },
  {
   "cell_type": "code",
   "execution_count": 7,
   "id": "15dbd196",
   "metadata": {},
   "outputs": [
    {
     "data": {
      "text/plain": [
       "{23: 'twothree', 'B': 43, 'C': 'CCD'}"
      ]
     },
     "execution_count": 7,
     "metadata": {},
     "output_type": "execute_result"
    }
   ],
   "source": [
    "K"
   ]
  },
  {
   "cell_type": "code",
   "execution_count": 8,
   "id": "f33a5864",
   "metadata": {},
   "outputs": [
    {
     "name": "stdout",
     "output_type": "stream",
     "text": [
      "23 twothree\n",
      "B 43\n",
      "C CCD\n"
     ]
    }
   ],
   "source": [
    "for x in K:\n",
    "    print(x,K[x])"
   ]
  },
  {
   "cell_type": "code",
   "execution_count": 19,
   "id": "5146c0b0",
   "metadata": {},
   "outputs": [
    {
     "name": "stdout",
     "output_type": "stream",
     "text": [
      "{23: 'twothree', 'B': 43, 'C': 'CCD'}\n",
      "type : <class 'dict'>\n"
     ]
    }
   ],
   "source": [
    "L3 = [L,T,D,23,\"game\"]\n",
    "\n",
    "\"\"\"you can access an abstract list with element [2] that is a dictionary\"\"\"\n",
    "print(L3[2])\n",
    "print(\"type :\" , type(L3[2]))"
   ]
  },
  {
   "cell_type": "code",
   "execution_count": 21,
   "id": "c1ba6348",
   "metadata": {},
   "outputs": [
    {
     "data": {
      "text/plain": [
       "[0, 1, 4, 9, 16, 25, 36, 49, 64, 81]"
      ]
     },
     "execution_count": 21,
     "metadata": {},
     "output_type": "execute_result"
    }
   ],
   "source": [
    "\"\"\"giving the square of x in range 10\"\"\"\n",
    "L4 = [x**2 for x in range(10)]\n",
    "L4"
   ]
  },
  {
   "cell_type": "code",
   "execution_count": 24,
   "id": "c1d7ff41",
   "metadata": {},
   "outputs": [
    {
     "data": {
      "text/plain": [
       "{4, 25, 64, 121, 196, 289}"
      ]
     },
     "execution_count": 24,
     "metadata": {},
     "output_type": "execute_result"
    }
   ],
   "source": [
    "\"\"\"set of squares, starting from 2 , till 20 (not including), and jumping by 3\"\"\"\n",
    "S3 = {x**2 for x in range(2,20,3)} #start end step\n",
    "S3"
   ]
  },
  {
   "cell_type": "markdown",
   "id": "261d3459",
   "metadata": {},
   "source": [
    "### problem 1"
   ]
  },
  {
   "cell_type": "code",
   "execution_count": 5,
   "id": "bb6ce281",
   "metadata": {},
   "outputs": [],
   "source": [
    "\"\"\"you are a teacher and you have different student records,\n",
    "containing id, marks of subject.All this records are in hard copy,you want to enter all data in computer\n",
    "and comute average of marks of each student and display\"\"\"\n",
    "\n",
    "def getDataFromUser():\n",
    "    D = {}\n",
    "    while True:\n",
    "        studentId = input(\"enter student ID :\")\n",
    "        marksList = input(\"Enter the marks by comma separated values :\")\n",
    "        moreStudents = input('Enter \"no\" to quit insertion :')\n",
    "        if studentId in D:\n",
    "            print(studentId, \"is already inserted\")\n",
    "        else: \n",
    "            \"\"\"we give the key(studentId) values(marks) separated by comma\"\"\"\n",
    "            D[studentId] = marksList.split(\",\")\n",
    "        \"\"\"passing the answer no to lowercase, and returning D\"\"\"\n",
    "        if moreStudents.lower() == \"no\" :\n",
    "            return D"
   ]
  },
  {
   "cell_type": "code",
   "execution_count": 6,
   "id": "c59a6ac5",
   "metadata": {},
   "outputs": [
    {
     "name": "stdout",
     "output_type": "stream",
     "text": [
      "enter student ID :12\n",
      "Enter the marks by comma separated values :14,85,77,4\n",
      "Enter \"no\" to quit insertion :fgh\n",
      "enter student ID :5\n",
      "Enter the marks by comma separated values :1,66,55,77\n",
      "Enter \"no\" to quit insertion :asdasd\n",
      "enter student ID :67\n",
      "Enter the marks by comma separated values :88,85,64\n",
      "Enter \"no\" to quit insertion :asd\n",
      "enter student ID :43\n",
      "Enter the marks by comma separated values :62,60,2,90,70\n",
      "Enter \"no\" to quit insertion :no\n"
     ]
    }
   ],
   "source": [
    "studentData = getDataFromUser()"
   ]
  },
  {
   "cell_type": "code",
   "execution_count": 7,
   "id": "d2de951c",
   "metadata": {},
   "outputs": [
    {
     "data": {
      "text/plain": [
       "{'12': ['14', '85', '77', '4'],\n",
       " '5': ['1', '66', '55', '77'],\n",
       " '67': ['88', '85', '64'],\n",
       " '43': ['62', '60', '2', '90', '70']}"
      ]
     },
     "execution_count": 7,
     "metadata": {},
     "output_type": "execute_result"
    }
   ],
   "source": [
    "studentData"
   ]
  },
  {
   "cell_type": "code",
   "execution_count": 10,
   "id": "bbab07fd",
   "metadata": {},
   "outputs": [],
   "source": [
    "def getAvgMarks(D):\n",
    "    avgMarks= {}\n",
    "    \"\"\"we separate each student marks\"\"\"\n",
    "    for x in D:\n",
    "        L = D[x]\n",
    "        s = 0\n",
    "        \"\"\"we add marks and convert to int\"\"\"\n",
    "        for marks in L:\n",
    "            s += int(marks)\n",
    "        \"\"\"each element of avgMarks equals sum of all divided by lenght of L\"\"\"\n",
    "        avgMarks[x] = s/len(L)\n",
    "    return avgMarks"
   ]
  },
  {
   "cell_type": "code",
   "execution_count": 11,
   "id": "83e7ee5a",
   "metadata": {},
   "outputs": [],
   "source": [
    "avgM = getAvgMarks(studentData)"
   ]
  },
  {
   "cell_type": "code",
   "execution_count": 16,
   "id": "822e0b80",
   "metadata": {},
   "outputs": [
    {
     "data": {
      "text/plain": [
       "{'12': 45.0, '5': 49.75, '67': 79.0, '43': 56.8}"
      ]
     },
     "execution_count": 16,
     "metadata": {},
     "output_type": "execute_result"
    }
   ],
   "source": [
    "avgM"
   ]
  },
  {
   "cell_type": "code",
   "execution_count": 17,
   "id": "a0551fd6",
   "metadata": {},
   "outputs": [
    {
     "name": "stdout",
     "output_type": "stream",
     "text": [
      "Student :  12 / got avg marks as :  45.0\n",
      "Student :  5 / got avg marks as :  49.75\n",
      "Student :  67 / got avg marks as :  79.0\n",
      "Student :  43 / got avg marks as :  56.8\n"
     ]
    }
   ],
   "source": [
    "for x in avgM:\n",
    "    print(\"Student : \",x,\"/ got avg marks as : \",avgM[x]) #indexing value"
   ]
  },
  {
   "cell_type": "markdown",
   "id": "dddb5024",
   "metadata": {},
   "source": [
    "# @ Numpy\n",
    "##### comes with python Anaconda \n",
    "(for numeric type data)"
   ]
  },
  {
   "cell_type": "markdown",
   "id": "e111522f",
   "metadata": {},
   "source": [
    "## --- import --- "
   ]
  },
  {
   "cell_type": "code",
   "execution_count": 18,
   "id": "21eff3c2",
   "metadata": {},
   "outputs": [],
   "source": [
    "import numpy as np"
   ]
  },
  {
   "cell_type": "markdown",
   "id": "dfcc0f84",
   "metadata": {},
   "source": [
    "## --- Types ---   (specifying)\n",
    "[ ], dtype = 'i' (int)\n",
    "\n",
    "[ ], dtype = 'f' (float)"
   ]
  },
  {
   "cell_type": "code",
   "execution_count": 25,
   "id": "564f42ee",
   "metadata": {},
   "outputs": [],
   "source": [
    "a = np.array([1,2,3,5,7], dtype='i') #int"
   ]
  },
  {
   "cell_type": "code",
   "execution_count": 26,
   "id": "9c09c92a",
   "metadata": {},
   "outputs": [],
   "source": [
    "b = np.array((2,3,5), dtype='f') #float"
   ]
  },
  {
   "cell_type": "code",
   "execution_count": 31,
   "id": "bf5e1979",
   "metadata": {},
   "outputs": [
    {
     "name": "stdout",
     "output_type": "stream",
     "text": [
      "<class 'numpy.ndarray'>\n",
      "<class 'numpy.ndarray'>\n"
     ]
    }
   ],
   "source": [
    "\"\"\"no longer this\"\"\"\n",
    "print(type(a))\n",
    "print(type(b))"
   ]
  },
  {
   "cell_type": "markdown",
   "id": "c152285f",
   "metadata": {},
   "source": [
    "### . how to know the types in Numpy ?\n",
    "x.dtype"
   ]
  },
  {
   "cell_type": "code",
   "execution_count": 29,
   "id": "abee27c1",
   "metadata": {},
   "outputs": [
    {
     "name": "stdout",
     "output_type": "stream",
     "text": [
      "int32\n",
      "float32\n"
     ]
    }
   ],
   "source": [
    "print(a.dtype)\n",
    "print(b.dtype)"
   ]
  },
  {
   "cell_type": "code",
   "execution_count": null,
   "id": "363d922d",
   "metadata": {},
   "outputs": [],
   "source": []
  }
 ],
 "metadata": {
  "kernelspec": {
   "display_name": "Python 3 (ipykernel)",
   "language": "python",
   "name": "python3"
  },
  "language_info": {
   "codemirror_mode": {
    "name": "ipython",
    "version": 3
   },
   "file_extension": ".py",
   "mimetype": "text/x-python",
   "name": "python",
   "nbconvert_exporter": "python",
   "pygments_lexer": "ipython3",
   "version": "3.9.12"
  }
 },
 "nbformat": 4,
 "nbformat_minor": 5
}
