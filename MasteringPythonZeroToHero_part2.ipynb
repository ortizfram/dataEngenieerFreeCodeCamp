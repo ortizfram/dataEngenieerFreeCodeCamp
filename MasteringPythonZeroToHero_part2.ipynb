{
 "cells": [
  {
   "cell_type": "markdown",
   "id": "bb247446",
   "metadata": {},
   "source": [
    "# @Data Structures"
   ]
  },
  {
   "cell_type": "code",
   "execution_count": 30,
   "id": "28053afb",
   "metadata": {},
   "outputs": [],
   "source": [
    "L = [1,3,4.9,\"name\",3]\n",
    "T = (1,3,4.9,\"name\",3)\n",
    "S = {1,3,4.9,\"name\",3} #cant contain duplicates\n",
    "D = {23:\"twothree\",'B':43,'C':'CCD'}"
   ]
  },
  {
   "cell_type": "code",
   "execution_count": 7,
   "id": "5f80e3a3",
   "metadata": {},
   "outputs": [
    {
     "name": "stdout",
     "output_type": "stream",
     "text": [
      "Type of L <class 'list'>\n",
      "Type of T <class 'tuple'>\n",
      "Type of S <class 'set'>\n",
      "Type of D <class 'dict'>\n"
     ]
    }
   ],
   "source": [
    "print(\"Type of L\", type(L))\n",
    "print(\"Type of T\", type(T))\n",
    "print(\"Type of S\", type(S))\n",
    "print(\"Type of D\", type(D))"
   ]
  },
  {
   "cell_type": "markdown",
   "id": "ca43d65d",
   "metadata": {},
   "source": [
    "## accessing\n",
    "#### accessing element in list"
   ]
  },
  {
   "cell_type": "code",
   "execution_count": 8,
   "id": "2c7aea5d",
   "metadata": {},
   "outputs": [
    {
     "name": "stdout",
     "output_type": "stream",
     "text": [
      "3\n",
      "3\n",
      "True\n",
      "twothree\n"
     ]
    }
   ],
   "source": [
    "print(L[1])\n",
    "print(T[1])\n",
    "print(3 in S) #bool\n",
    "print(D[23])"
   ]
  },
  {
   "cell_type": "code",
   "execution_count": 5,
   "id": "01fc0d5b",
   "metadata": {},
   "outputs": [
    {
     "data": {
      "text/plain": [
       "{1, 3, 4.9, 'name'}"
      ]
     },
     "execution_count": 5,
     "metadata": {},
     "output_type": "execute_result"
    }
   ],
   "source": [
    "S"
   ]
  },
  {
   "cell_type": "code",
   "execution_count": 9,
   "id": "ca0c3193",
   "metadata": {},
   "outputs": [
    {
     "data": {
      "text/plain": [
       "[1, 3, 4.9, 'name', 3]"
      ]
     },
     "execution_count": 9,
     "metadata": {},
     "output_type": "execute_result"
    }
   ],
   "source": [
    "L"
   ]
  },
  {
   "cell_type": "code",
   "execution_count": 10,
   "id": "4f445a2f",
   "metadata": {},
   "outputs": [
    {
     "data": {
      "text/plain": [
       "[3, 4.9]"
      ]
     },
     "execution_count": 10,
     "metadata": {},
     "output_type": "execute_result"
    }
   ],
   "source": [
    "L[1:3]"
   ]
  },
  {
   "cell_type": "code",
   "execution_count": 11,
   "id": "1345c7fb",
   "metadata": {},
   "outputs": [
    {
     "data": {
      "text/plain": [
       "[3, 'name', 4.9, 3, 1]"
      ]
     },
     "execution_count": 11,
     "metadata": {},
     "output_type": "execute_result"
    }
   ],
   "source": [
    "L[::-1]"
   ]
  },
  {
   "cell_type": "code",
   "execution_count": 12,
   "id": "53e8f27b",
   "metadata": {},
   "outputs": [
    {
     "data": {
      "text/plain": [
       "(1, 3, 4.9)"
      ]
     },
     "execution_count": 12,
     "metadata": {},
     "output_type": "execute_result"
    }
   ],
   "source": [
    "T[:3]"
   ]
  },
  {
   "cell_type": "markdown",
   "id": "c057f5c5",
   "metadata": {},
   "source": [
    "## inserting\n",
    "### - list\n",
    "(mutable)\n",
    "##### \"\"\" L + [ ]   OR        L.append( ) \"\"\""
   ]
  },
  {
   "cell_type": "code",
   "execution_count": 21,
   "id": "99e06b58",
   "metadata": {},
   "outputs": [
    {
     "data": {
      "text/plain": [
       "[1, 3, 4.9, 'name', 3]"
      ]
     },
     "execution_count": 21,
     "metadata": {},
     "output_type": "execute_result"
    }
   ],
   "source": [
    "L"
   ]
  },
  {
   "cell_type": "code",
   "execution_count": 28,
   "id": "acc27dd8",
   "metadata": {},
   "outputs": [],
   "source": [
    "L = L + ['how', 'are', 6, 'you']\n",
    "\n",
    "\"\"\"OR\"\"\"\n",
    "\n",
    "L.append(6.8)"
   ]
  },
  {
   "cell_type": "code",
   "execution_count": 27,
   "id": "8192a2f5",
   "metadata": {},
   "outputs": [
    {
     "name": "stdout",
     "output_type": "stream",
     "text": [
      "[1, 3, 4.9, 'name', 3, 'how', 'are', 6, 'you', 'how', 'are', 6, 'you', 6.8, 'how', 'are', 6, 'you', 6.8]\n"
     ]
    }
   ],
   "source": [
    "print(L)"
   ]
  },
  {
   "cell_type": "markdown",
   "id": "9a95427b",
   "metadata": {},
   "source": [
    "### - tuple    \n",
    "(inmutable can't insert )\n",
    "##### \"\"\" T1  +  T2  \"\"\""
   ]
  },
  {
   "cell_type": "code",
   "execution_count": 32,
   "id": "39bc8cd9",
   "metadata": {},
   "outputs": [
    {
     "name": "stdout",
     "output_type": "stream",
     "text": [
      "(1, 3, 4.9, 'name', 3, 'a', 'b', 45)\n"
     ]
    }
   ],
   "source": [
    "T = (1,3,4.9,\"name\",3)\n",
    "T2 = ('a', 'b', 45)\n",
    "T3 = T + T2\n",
    "print(T3)"
   ]
  },
  {
   "cell_type": "markdown",
   "id": "f0b1c5c6",
   "metadata": {},
   "source": [
    "### - set\n",
    "##### \"\"\"  S.add( )    OR    S.update({ 23,\"game\"} )    \"\"\"\n",
    "(cant contain duplicates)"
   ]
  },
  {
   "cell_type": "code",
   "execution_count": 34,
   "id": "073c8531",
   "metadata": {},
   "outputs": [
    {
     "data": {
      "text/plain": [
       "{1, 3, 4.9, 56, 'name'}"
      ]
     },
     "execution_count": 34,
     "metadata": {},
     "output_type": "execute_result"
    }
   ],
   "source": [
    "S = {1,3,4.9,\"name\",3} \n",
    "S.add(56)\n",
    "S"
   ]
  },
  {
   "cell_type": "code",
   "execution_count": 37,
   "id": "4e6c1076",
   "metadata": {},
   "outputs": [
    {
     "data": {
      "text/plain": [
       "{1, 23, 3, 4.9, 56, 'fra', 'game', 'name'}"
      ]
     },
     "execution_count": 37,
     "metadata": {},
     "output_type": "execute_result"
    }
   ],
   "source": [
    "S.update({23, \"fra\", \"game\"})\n",
    "S"
   ]
  },
  {
   "cell_type": "markdown",
   "id": "90b97fb2",
   "metadata": {},
   "source": [
    "### - dictionary"
   ]
  },
  {
   "cell_type": "code",
   "execution_count": 41,
   "id": "0716996e",
   "metadata": {},
   "outputs": [],
   "source": [
    "D = {23:\"twothree\",'B':43,'C':'CCD'}"
   ]
  },
  {
   "cell_type": "code",
   "execution_count": 42,
   "id": "30570720",
   "metadata": {},
   "outputs": [
    {
     "ename": "TypeError",
     "evalue": "'str' object does not support item assignment",
     "output_type": "error",
     "traceback": [
      "\u001b[1;31m---------------------------------------------------------------------------\u001b[0m",
      "\u001b[1;31mTypeError\u001b[0m                                 Traceback (most recent call last)",
      "Input \u001b[1;32mIn [42]\u001b[0m, in \u001b[0;36m<cell line: 1>\u001b[1;34m()\u001b[0m\n\u001b[1;32m----> 1\u001b[0m D \u001b[38;5;241m=\u001b[39m D[\u001b[38;5;124m'\u001b[39m\u001b[38;5;124mnewKey\u001b[39m\u001b[38;5;124m'\u001b[39m] \u001b[38;5;241m=\u001b[39m \u001b[38;5;124m\"\u001b[39m\u001b[38;5;124mnewValue\u001b[39m\u001b[38;5;124m\"\u001b[39m\n\u001b[0;32m      2\u001b[0m \u001b[38;5;28mprint\u001b[39m(D)\n",
      "\u001b[1;31mTypeError\u001b[0m: 'str' object does not support item assignment"
     ]
    }
   ],
   "source": [
    "D = D['newKey'] = \"newValue\"\n",
    "print(D)"
   ]
  },
  {
   "cell_type": "code",
   "execution_count": null,
   "id": "0e4619e8",
   "metadata": {},
   "outputs": [],
   "source": []
  }
 ],
 "metadata": {
  "kernelspec": {
   "display_name": "Python 3 (ipykernel)",
   "language": "python",
   "name": "python3"
  },
  "language_info": {
   "codemirror_mode": {
    "name": "ipython",
    "version": 3
   },
   "file_extension": ".py",
   "mimetype": "text/x-python",
   "name": "python",
   "nbconvert_exporter": "python",
   "pygments_lexer": "ipython3",
   "version": "3.9.12"
  }
 },
 "nbformat": 4,
 "nbformat_minor": 5
}
